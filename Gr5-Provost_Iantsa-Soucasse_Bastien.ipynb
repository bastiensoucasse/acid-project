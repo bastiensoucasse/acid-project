{
 "cells": [
  {
   "cell_type": "markdown",
   "metadata": {},
   "source": [
    "Iantsa Provost et Bastien Soucasse – Groupe 5\n",
    "\n",
    "# Projet d'ACID – 2 janvier 2022"
   ]
  },
  {
   "cell_type": "markdown",
   "metadata": {},
   "source": [
    "## Introduction\n",
    "\n",
    "Afin de se lancer dans la comparaison des différents algorithmes de _Machine Learning_, il nous faut des données à exploiter pour l'entraînement et en guise de test."
   ]
  },
  {
   "cell_type": "markdown",
   "metadata": {},
   "source": [
    "Commençons par importer les modules et classes nécessaires au bon fonctionnement du projet."
   ]
  },
  {
   "cell_type": "code",
   "execution_count": 5,
   "metadata": {},
   "outputs": [],
   "source": [
    "from tensorflow.keras.datasets import fashion_mnist\n",
    "\n",
    "from sklearn.decomposition import PCA\n",
    "from sklearn.discriminant_analysis import LinearDiscriminantAnalysis as LDA\n",
    "from sklearn.naive_bayes import GaussianNB\n",
    "from sklearn.neighbors import KNeighborsClassifier\n",
    "from sklearn.preprocessing import StandardScaler\n",
    "from sklearn.tree import DecisionTreeClassifier\n",
    "from sklearn.ensemble import RandomForestClassifier\n",
    "from sklearn.model_selection import RandomizedSearchCV\n",
    "\n",
    "import matplotlib.pyplot as plt\n",
    "import matplotlib.cm as cm\n",
    "\n",
    "import numpy as np\n",
    "\n",
    "import time\n",
    "\n",
    "%matplotlib inline\n",
    "\n",
    "VERBOSE = True"
   ]
  },
  {
   "cell_type": "markdown",
   "metadata": {},
   "source": [
    "On peut alors récupérer les données à traiter à l'aide de **keras**."
   ]
  },
  {
   "cell_type": "code",
   "execution_count": 7,
   "metadata": {},
   "outputs": [
    {
     "name": "stdout",
     "output_type": "stream",
     "text": [
      "X_train.shape = (60000, 28, 28)\n",
      "y_train.shape = (60000,)\n",
      "X_test.shape = (10000, 28, 28)\n",
      "y_test.shape = (10000,)\n"
     ]
    }
   ],
   "source": [
    "(X_train, y_train), (X_test, y_test) = fashion_mnist.load_data()\n",
    "X_train, X_test = X_train / 255.0, X_test / 255.0\n",
    "\n",
    "assert len(X_train.shape) == 3\n",
    "assert len(X_test.shape) == 3\n",
    "assert len(y_train.shape) == 1\n",
    "assert len(y_test.shape) == 1\n",
    "\n",
    "if (VERBOSE):\n",
    "    print('X_train.shape =', X_train.shape)\n",
    "    print('y_train.shape =', y_train.shape)\n",
    "    print('X_test.shape =', X_test.shape)\n",
    "    print('y_test.shape =', y_test.shape)"
   ]
  },
  {
   "cell_type": "markdown",
   "metadata": {},
   "source": [
    "Si besoin, on peut avoir un aperçu des données."
   ]
  },
  {
   "cell_type": "code",
   "execution_count": 3,
   "metadata": {},
   "outputs": [
    {
     "name": "stdout",
     "output_type": "stream",
     "text": [
      "X_train[0]:\n"
     ]
    },
    {
     "data": {
      "image/png": "[encoded data removed]",
      "text/plain": [
       "<Figure size 432x288 with 1 Axes>"
      ]
     },
     "metadata": {
      "needs_background": "light"
     },
     "output_type": "display_data"
    },
    {
     "name": "stdout",
     "output_type": "stream",
     "text": [
      "y_train[0] = 9\n",
      "X_train[1]:\n"
     ]
    },
    {
     "data": {
      "image/png": "[encoded data removed]",
      "text/plain": [
       "<Figure size 432x288 with 1 Axes>"
      ]
     },
     "metadata": {
      "needs_background": "light"
     },
     "output_type": "display_data"
    },
    {
     "name": "stdout",
     "output_type": "stream",
     "text": [
      "y_train[1] = 0\n",
      "X_train[2]:\n"
     ]
    },
    {
     "data": {
      "image/png": "[encoded data removed]",
      "text/plain": [
       "<Figure size 432x288 with 1 Axes>"
      ]
     },
     "metadata": {
      "needs_background": "light"
     },
     "output_type": "display_data"
    },
    {
     "name": "stdout",
     "output_type": "stream",
     "text": [
      "y_train[2] = 0\n",
      "X_train[3]:\n"
     ]
    },
    {
     "data": {
      "image/png": "[encoded data removed]",
      "text/plain": [
       "<Figure size 432x288 with 1 Axes>"
      ]
     },
     "metadata": {
      "needs_background": "light"
     },
     "output_type": "display_data"
    },
    {
     "name": "stdout",
     "output_type": "stream",
     "text": [
      "y_train[3] = 3\n",
      "X_train[4]:\n"
     ]
    },
    {
     "data": {
      "image/png": "[encoded data removed]",
      "text/plain": [
       "<Figure size 432x288 with 1 Axes>"
      ]
     },
     "metadata": {
      "needs_background": "light"
     },
     "output_type": "display_data"
    },
    {
     "name": "stdout",
     "output_type": "stream",
     "text": [
      "y_train[4] = 0\n"
     ]
    }
   ],
   "source": [
    "if VERBOSE:\n",
    "    NUM_EXAMPLES = 5\n",
    "\n",
    "    for i in range(NUM_EXAMPLES):\n",
    "        print('X_train[%d]:' % i)\n",
    "        plt.imshow(X_train[i], cmap = cm.Greys)\n",
    "        plt.show()\n",
    "        print('y_train[%d] =' % i, y_train[i])"
   ]
  },
  {
   "cell_type": "markdown",
   "metadata": {},
   "source": [
    "On a également besoin d'applatir les données."
   ]
  },
  {
   "cell_type": "code",
   "execution_count": 8,
   "metadata": {},
   "outputs": [
    {
     "name": "stdout",
     "output_type": "stream",
     "text": [
      "X_train.shape = (60000, 784)\n",
      "X_test.shape = (10000, 784)\n"
     ]
    }
   ],
   "source": [
    "X_train, X_test = X_train.reshape(X_train.shape[0], X_train.shape[1] * X_train.shape[2]), X_test.reshape(X_test.shape[0], X_test.shape[1] * X_test.shape[2])\n",
    "\n",
    "assert len(X_train.shape) == 2\n",
    "assert len(X_test.shape) == 2\n",
    "\n",
    "if (VERBOSE):\n",
    "    print('X_train.shape =', X_train.shape)\n",
    "    print('X_test.shape =', X_test.shape)"
   ]
  },
  {
   "cell_type": "markdown",
   "metadata": {},
   "source": [
    "## Réductions de dimension\n",
    "\n",
    "Afin de comparer un large panel de classifications, on va mettre en place deux réductions de dimensions qui seront appliquées une à une à chaque modèle de classification. Cela permettra de tenter d'améliorer nos accuracy tout en gagnant du temps de calcul.\n",
    "\n",
    "- Analyse en composantes principales\n",
    "- Analyse linéaire discriminante"
   ]
  },
  {
   "cell_type": "markdown",
   "metadata": {},
   "source": [
    "### Analyse en composantes principales"
   ]
  },
  {
   "cell_type": "markdown",
   "metadata": {},
   "source": [
    "On commence par centrer les données."
   ]
  },
  {
   "cell_type": "code",
   "execution_count": 5,
   "metadata": {},
   "outputs": [],
   "source": [
    "scaler = StandardScaler()\n",
    "X = np.concatenate((X_train, X_test))\n",
    "z = scaler.fit_transform(X)"
   ]
  },
  {
   "cell_type": "markdown",
   "metadata": {},
   "source": [
    "On peut maintenant commencer l'ACP."
   ]
  },
  {
   "cell_type": "code",
   "execution_count": 6,
   "metadata": {},
   "outputs": [
    {
     "name": "stdout",
     "output_type": "stream",
     "text": [
      "n_components = 784\n"
     ]
    }
   ],
   "source": [
    "pca = PCA()\n",
    "coord = pca.fit_transform(z)\n",
    "\n",
    "if VERBOSE:\n",
    "    print('n_components =', pca.n_components_)"
   ]
  },
  {
   "cell_type": "markdown",
   "metadata": {},
   "source": [
    "Fions-nous au critère du coude pour définir le nombre d'axes que l'on va retenir. Pour ce faire, nous allons construire l'éboulis des valeurs propres grâce à une fonction."
   ]
  },
  {
   "cell_type": "code",
   "execution_count": 7,
   "metadata": {},
   "outputs": [],
   "source": [
    "def display_scree_plot(n_components, explained_variance_ratio):\n",
    "    plt.grid()\n",
    "    plt.plot(np.arange(1, n_components+1), explained_variance_ratio)\n",
    "    plt.title('Scree Plot')\n",
    "    plt.ylabel('Eigen Values')\n",
    "    plt.xlabel('Factor Number')\n",
    "    plt.show()"
   ]
  },
  {
   "cell_type": "markdown",
   "metadata": {},
   "source": [
    "On peut ainsi afficher notre éboulis et tenter de trouver le décrochement."
   ]
  },
  {
   "cell_type": "code",
   "execution_count": 8,
   "metadata": {},
   "outputs": [
    {
     "data": {
      "image/png": "[encoded data removed]",
      "text/plain": [
       "<Figure size 432x288 with 1 Axes>"
      ]
     },
     "metadata": {
      "needs_background": "light"
     },
     "output_type": "display_data"
    }
   ],
   "source": [
    "display_scree_plot(pca.n_components_, pca.explained_variance_ratio_)"
   ]
  },
  {
   "cell_type": "markdown",
   "metadata": {},
   "source": [
    "En l'état, l'éboulis n'est pas vraiment lisible. Cependant, on remarque qu'à partir d'un certain facteur, la valeur propre est plutôt constante. On peut donc tronquer cette partie, ce qui nous permettra de « zoomer » sur le décrochement que l'on cherche."
   ]
  },
  {
   "cell_type": "code",
   "execution_count": 9,
   "metadata": {},
   "outputs": [
    {
     "data": {
      "image/png": "[encoded data removed]",
      "text/plain": [
       "<Figure size 432x288 with 1 Axes>"
      ]
     },
     "metadata": {
      "needs_background": "light"
     },
     "output_type": "display_data"
    }
   ],
   "source": [
    "display_scree_plot(30, pca.explained_variance_ratio_[:30])"
   ]
  },
  {
   "cell_type": "markdown",
   "metadata": {},
   "source": [
    "Nous ne sommes pas sûrs si le « décrochement » se fait plutôt pour la valeur 3 ou 6. Observons alors la variance totale pour ces valeurs. On va utiliser une fonction pour simplifier ce processus."
   ]
  },
  {
   "cell_type": "code",
   "execution_count": 10,
   "metadata": {},
   "outputs": [],
   "source": [
    "def display_total_variance(p):\n",
    "    pca = PCA(n_components=p)\n",
    "    pca.fit_transform(z)\n",
    "    print('Total variance for p = %d: %.2f%%' % (p, pca.explained_variance_ratio_.sum() * 100))"
   ]
  },
  {
   "cell_type": "markdown",
   "metadata": {},
   "source": [
    "On peut alors comparer nos deux valeurs."
   ]
  },
  {
   "cell_type": "code",
   "execution_count": 11,
   "metadata": {},
   "outputs": [
    {
     "name": "stdout",
     "output_type": "stream",
     "text": [
      "Total variance for p = 3: 41.96%\n",
      "Total variance for p = 6: 54.12%\n"
     ]
    }
   ],
   "source": [
    "display_total_variance(3)\n",
    "display_total_variance(6)"
   ]
  },
  {
   "cell_type": "markdown",
   "metadata": {},
   "source": [
    "Choisissons 6 car elle permet de garder au moins 50% de la variance.\n",
    "\n",
    "Notons tout de même que dans les 2 cas, le pourcentage de variance conservée est plutôt bas. Également, 6 est un nombre d'axes plutôt élevé. On peut en déduire que l'ACP n'est sûrement pas la meilleure réduction de dimension."
   ]
  },
  {
   "cell_type": "code",
   "execution_count": 12,
   "metadata": {},
   "outputs": [],
   "source": [
    "ACP_N_COMPONENTS = 6"
   ]
  },
  {
   "cell_type": "markdown",
   "metadata": {},
   "source": [
    "Et voilà, notre ACP finale peut alors voir le jour."
   ]
  },
  {
   "cell_type": "code",
   "execution_count": 13,
   "metadata": {},
   "outputs": [
    {
     "name": "stdout",
     "output_type": "stream",
     "text": [
      "Xp_train.shape = (60000, 6)\n",
      "Xp_test.shape = (10000, 6)\n"
     ]
    }
   ],
   "source": [
    "pca = PCA(n_components=ACP_N_COMPONENTS)\n",
    "\n",
    "X = np.concatenate((X_train, X_test))\n",
    "z = scaler.fit_transform(X)\n",
    "Xp = pca.fit_transform(z)\n",
    "Xp_train = Xp[:X_train.shape[0]]\n",
    "Xp_test = Xp[X_train.shape[0]:]\n",
    "\n",
    "if VERBOSE:\n",
    "    print('Xp_train.shape =', Xp_train.shape)\n",
    "    print('Xp_test.shape =', Xp_test.shape)"
   ]
  },
  {
   "cell_type": "markdown",
   "metadata": {},
   "source": [
    "### Analyse linéaire discriminante"
   ]
  },
  {
   "cell_type": "markdown",
   "metadata": {},
   "source": [
    "En se basant sur le travail effectué pour réaliser l'ACP, on peut mettre en place l'ALD."
   ]
  },
  {
   "cell_type": "code",
   "execution_count": 14,
   "metadata": {},
   "outputs": [
    {
     "name": "stdout",
     "output_type": "stream",
     "text": [
      "Xl_train.shape = (60000, 9)\n",
      "Xl_test.shape = (10000, 9)\n"
     ]
    }
   ],
   "source": [
    "lda = LDA()\n",
    "\n",
    "X = np.concatenate((X_train, X_test))\n",
    "y = np.concatenate((y_train, y_test))\n",
    "\n",
    "X_lda = lda.fit_transform(X, y)\n",
    "Xl_train = X_lda[:X_train.shape[0]]\n",
    "Xl_test = X_lda[X_train.shape[0]:]\n",
    "\n",
    "if VERBOSE:\n",
    "    print('Xl_train.shape =', Xl_train.shape)\n",
    "    print('Xl_test.shape =', Xl_test.shape)"
   ]
  },
  {
   "cell_type": "markdown",
   "metadata": {},
   "source": [
    "Ratio de la variance expliquée par les axes obtenus :"
   ]
  },
  {
   "cell_type": "code",
   "execution_count": 15,
   "metadata": {},
   "outputs": [
    {
     "data": {
      "text/plain": [
       "array([0.44775652, 0.21875177, 0.09237004, 0.07396008, 0.06062643,\n",
       "       0.04305586, 0.03801965, 0.01584194, 0.00961772])"
      ]
     },
     "execution_count": 15,
     "metadata": {},
     "output_type": "execute_result"
    }
   ],
   "source": [
    "lda.explained_variance_ratio_"
   ]
  },
  {
   "cell_type": "markdown",
   "metadata": {},
   "source": [
    "On peut en déduire qu'on garde 9 axes."
   ]
  },
  {
   "cell_type": "markdown",
   "metadata": {},
   "source": [
    "## Classifications des données\n",
    "\n",
    "Cette partie est dédiée concrètement au _Machine Learning_. Pour classifier les données on a plusieurs méthodes que l'on peut appliquer.\n",
    "\n",
    "- Méthode des _k_ plus proches voisins\n",
    "- Classification naïve bayésienne\n",
    "- Abre de décision\n",
    "- Forêt aléatoire"
   ]
  },
  {
   "cell_type": "markdown",
   "metadata": {},
   "source": [
    "### Méthode des _k_ plus proches voisins\n",
    "\n",
    "Grâce à cette méthode, on regarde les classes d'un nombre donné de voisins les plus proches afin d'en déduire la classe de celui-ci. On va directement rechercher la meilleur valeur de _k_ possible parmi un ensemble déterminé en amont."
   ]
  },
  {
   "cell_type": "markdown",
   "metadata": {},
   "source": [
    "#### Mise en place"
   ]
  },
  {
   "cell_type": "markdown",
   "metadata": {},
   "source": [
    "On commence par définir les valeurs possibles pour _k_."
   ]
  },
  {
   "cell_type": "code",
   "execution_count": 16,
   "metadata": {},
   "outputs": [
    {
     "name": "stdout",
     "output_type": "stream",
     "text": [
      "K_VALS = [1, 2, 3, 4, 5, 6, 7, 8, 9, 10, 11, 21, 31, 41, 51, 61, 71, 81, 91]\n"
     ]
    }
   ],
   "source": [
    "K_VALS = list(range(1, 11)) + list(range(11, 101, 10))\n",
    "\n",
    "if VERBOSE:\n",
    "    print('K_VALS =', K_VALS)"
   ]
  },
  {
   "cell_type": "markdown",
   "metadata": {},
   "source": [
    "On peut récupérer le temps d'entraînement et l'accuracy pour le meilleur _k_ grâce à une fonction. "
   ]
  },
  {
   "cell_type": "code",
   "execution_count": 17,
   "metadata": {},
   "outputs": [],
   "source": [
    "def find_best_knn(X_train, y_train, X_test, y_test, k_vals, patience=3):\n",
    "    best_k, best_k_training_time, best_k_accuracy = 0, 0, 0\n",
    "    p = patience\n",
    "\n",
    "    for k in k_vals:\n",
    "        if patience <= 0:\n",
    "            break\n",
    "\n",
    "        if VERBOSE:\n",
    "            print('Computing %d-Nearest Neighbors classification…' % k)\n",
    "\n",
    "        knn = KNeighborsClassifier(n_neighbors=k)\n",
    "        start_time = time.time()\n",
    "        knn.fit(X_train, y_train)\n",
    "        training_time = time.time() - start_time\n",
    "        accuracy = knn.score(X_test, y_test)\n",
    "\n",
    "        if VERBOSE:\n",
    "            print('training_time =', training_time)\n",
    "            print('accuracy =', accuracy)\n",
    "        \n",
    "        if accuracy > best_k_accuracy:\n",
    "            best_k = k\n",
    "            best_k_training_time = training_time\n",
    "            best_k_accuracy = accuracy\n",
    "            p = patience + 1\n",
    "        \n",
    "        p -= 1\n",
    "    \n",
    "    return best_k, best_k_training_time, best_k_accuracy"
   ]
  },
  {
   "cell_type": "markdown",
   "metadata": {},
   "source": [
    "#### Classification des données brutes"
   ]
  },
  {
   "cell_type": "markdown",
   "metadata": {},
   "source": [
    "On calcule le temps d'entraînement et l'accuracy du modèle _k_-NN pour le meilleur _k_ sur les données brutes."
   ]
  },
  {
   "cell_type": "code",
   "execution_count": 18,
   "metadata": {},
   "outputs": [
    {
     "name": "stdout",
     "output_type": "stream",
     "text": [
      "Computing 4-Nearest Neighbors classification…\n",
      "training_time = 0.06759381294250488\n",
      "accuracy = 0.8577\n",
      "4-Nearest Neighbors:\n",
      "  - Training Time: 0.07s.\n",
      "  - Accuracy: 85.77%.\n"
     ]
    }
   ],
   "source": [
    "# This is long so we use the value 4 computed previously.\n",
    "# knn_k, knn_training_time, knn_accuracy = find_best_knn(X_train, y_train, X_test, y_test, K_VALS)\n",
    "knn_k, knn_training_time, knn_accuracy = find_best_knn(X_train, y_train, X_test, y_test, [4])\n",
    "\n",
    "print('%d-Nearest Neighbors:' % knn_k)\n",
    "print('  - Training Time: %.2fs.' % knn_training_time)\n",
    "print('  - Accuracy: %.2f%%.' % (knn_accuracy * 100))"
   ]
  },
  {
   "cell_type": "markdown",
   "metadata": {},
   "source": [
    "On remarque que le meilleur modèle _k_-NN sur les données brutes est celui dont le _k_ vaut 4 et son accuracy est d'environ 86%. Quant aux autres valeurs de _k_, on constate malgré tout qu'on arrive généralement au delà des 80% d'accuracy."
   ]
  },
  {
   "cell_type": "markdown",
   "metadata": {},
   "source": [
    "#### Classification après une ACP"
   ]
  },
  {
   "cell_type": "markdown",
   "metadata": {},
   "source": [
    "On calcule le temps d'entraînement et l'accuracy du modèle _k_-NN pour le meilleur _k_ après réduction de dimension grâce à l'ACP."
   ]
  },
  {
   "cell_type": "code",
   "execution_count": 19,
   "metadata": {},
   "outputs": [
    {
     "name": "stdout",
     "output_type": "stream",
     "text": [
      "Computing 1-Nearest Neighbors classification…\n",
      "training_time = 0.019197940826416016\n",
      "accuracy = 0.7205\n",
      "Computing 2-Nearest Neighbors classification…\n",
      "training_time = 0.016768932342529297\n",
      "accuracy = 0.7169\n",
      "Computing 3-Nearest Neighbors classification…\n",
      "training_time = 0.016910791397094727\n",
      "accuracy = 0.7427\n",
      "Computing 4-Nearest Neighbors classification…\n",
      "training_time = 0.016689777374267578\n",
      "accuracy = 0.7507\n",
      "Computing 5-Nearest Neighbors classification…\n",
      "training_time = 0.016952037811279297\n",
      "accuracy = 0.7558\n",
      "Computing 6-Nearest Neighbors classification…\n",
      "training_time = 0.016820907592773438\n",
      "accuracy = 0.7591\n",
      "Computing 7-Nearest Neighbors classification…\n",
      "training_time = 0.016803979873657227\n",
      "accuracy = 0.7641\n",
      "Computing 8-Nearest Neighbors classification…\n",
      "training_time = 0.016802072525024414\n",
      "accuracy = 0.767\n",
      "Computing 9-Nearest Neighbors classification…\n",
      "training_time = 0.016701221466064453\n",
      "accuracy = 0.767\n",
      "Computing 10-Nearest Neighbors classification…\n",
      "training_time = 0.016757965087890625\n",
      "accuracy = 0.7691\n",
      "Computing 11-Nearest Neighbors classification…\n",
      "training_time = 0.01673603057861328\n",
      "accuracy = 0.7674\n",
      "Computing 21-Nearest Neighbors classification…\n",
      "training_time = 0.016982078552246094\n",
      "accuracy = 0.7674\n",
      "Computing 31-Nearest Neighbors classification…\n",
      "training_time = 0.01656508445739746\n",
      "accuracy = 0.7648\n",
      "Computing 41-Nearest Neighbors classification…\n",
      "training_time = 0.016734838485717773\n",
      "accuracy = 0.7648\n",
      "Computing 51-Nearest Neighbors classification…\n",
      "training_time = 0.017277002334594727\n",
      "accuracy = 0.7659\n",
      "Computing 61-Nearest Neighbors classification…\n",
      "training_time = 0.016770124435424805\n",
      "accuracy = 0.764\n",
      "Computing 71-Nearest Neighbors classification…\n",
      "training_time = 0.017180204391479492\n",
      "accuracy = 0.7641\n",
      "Computing 81-Nearest Neighbors classification…\n",
      "training_time = 0.016724824905395508\n",
      "accuracy = 0.7613\n",
      "Computing 91-Nearest Neighbors classification…\n",
      "training_time = 0.016974210739135742\n",
      "accuracy = 0.7596\n",
      "10-Nearest Neighbors after PCA:\n",
      "  - Training Time: 0.02s.\n",
      "  - Accuracy: 76.91%.\n"
     ]
    }
   ],
   "source": [
    "pca_knn_k, pca_knn_training_time, pca_knn_accuracy = find_best_knn(Xp_train, y_train, Xp_test, y_test, K_VALS)\n",
    "\n",
    "print('%d-Nearest Neighbors after PCA:' % pca_knn_k)\n",
    "print('  - Training Time: %.2fs.' % pca_knn_training_time)\n",
    "print('  - Accuracy: %.2f%%.' % (pca_knn_accuracy * 100))"
   ]
  },
  {
   "cell_type": "markdown",
   "metadata": {},
   "source": [
    "On remarque que le meilleur modèle _k_-NN après réduction de dimension grâce à l'ACP est celui dont le _k_ vaut 10 et son accuracy est d'environ 77%. Quant aux autres valeurs de _k_, on constate malgré tout qu'on arrive généralement au delà des 70% d'accuracy."
   ]
  },
  {
   "cell_type": "markdown",
   "metadata": {},
   "source": [
    "#### Classification après une ALD"
   ]
  },
  {
   "cell_type": "markdown",
   "metadata": {},
   "source": [
    "On calcule le temps d'entraînement et l'accuracy du modèle _k_-NN pour le meilleur _k_ après réduction de dimension grâce à l'ALD."
   ]
  },
  {
   "cell_type": "code",
   "execution_count": 20,
   "metadata": {},
   "outputs": [
    {
     "name": "stdout",
     "output_type": "stream",
     "text": [
      "Computing 1-Nearest Neighbors classification…\n",
      "training_time = 0.018815994262695312\n",
      "accuracy = 0.7935\n",
      "Computing 2-Nearest Neighbors classification…\n",
      "training_time = 0.017714977264404297\n",
      "accuracy = 0.8025\n",
      "Computing 3-Nearest Neighbors classification…\n",
      "training_time = 0.0178220272064209\n",
      "accuracy = 0.8177\n",
      "Computing 4-Nearest Neighbors classification…\n",
      "training_time = 0.01764988899230957\n",
      "accuracy = 0.8259\n",
      "Computing 5-Nearest Neighbors classification…\n",
      "training_time = 0.01783299446105957\n",
      "accuracy = 0.8293\n",
      "Computing 6-Nearest Neighbors classification…\n",
      "training_time = 0.017623186111450195\n",
      "accuracy = 0.8328\n",
      "Computing 7-Nearest Neighbors classification…\n",
      "training_time = 0.01789116859436035\n",
      "accuracy = 0.8363\n",
      "Computing 8-Nearest Neighbors classification…\n",
      "training_time = 0.01773381233215332\n",
      "accuracy = 0.8363\n",
      "Computing 9-Nearest Neighbors classification…\n",
      "training_time = 0.017499685287475586\n",
      "accuracy = 0.8396\n",
      "Computing 10-Nearest Neighbors classification…\n",
      "training_time = 0.017632007598876953\n",
      "accuracy = 0.8393\n",
      "Computing 11-Nearest Neighbors classification…\n",
      "training_time = 0.017511844635009766\n",
      "accuracy = 0.8386\n",
      "Computing 21-Nearest Neighbors classification…\n",
      "training_time = 0.017642974853515625\n",
      "accuracy = 0.8411\n",
      "Computing 31-Nearest Neighbors classification…\n",
      "training_time = 0.017845869064331055\n",
      "accuracy = 0.8413\n",
      "Computing 41-Nearest Neighbors classification…\n",
      "training_time = 0.017651081085205078\n",
      "accuracy = 0.8415\n",
      "Computing 51-Nearest Neighbors classification…\n",
      "training_time = 0.01768183708190918\n",
      "accuracy = 0.8392\n",
      "Computing 61-Nearest Neighbors classification…\n",
      "training_time = 0.017644882202148438\n",
      "accuracy = 0.8388\n",
      "Computing 71-Nearest Neighbors classification…\n",
      "training_time = 0.017843008041381836\n",
      "accuracy = 0.8388\n",
      "Computing 81-Nearest Neighbors classification…\n",
      "training_time = 0.017683029174804688\n",
      "accuracy = 0.839\n",
      "Computing 91-Nearest Neighbors classification…\n",
      "training_time = 0.01794290542602539\n",
      "accuracy = 0.8379\n",
      "41-Nearest Neighbors after LDA:\n",
      "  - Training Time: 0.02s.\n",
      "  - Accuracy: 84.15%.\n"
     ]
    }
   ],
   "source": [
    "lda_knn_k, lda_knn_training_time, lda_knn_accuracy = find_best_knn(Xl_train, y_train, Xl_test, y_test, K_VALS)\n",
    "\n",
    "print('%d-Nearest Neighbors after LDA:' % lda_knn_k)\n",
    "print('  - Training Time: %.2fs.' % lda_knn_training_time)\n",
    "print('  - Accuracy: %.2f%%.' % (lda_knn_accuracy * 100))"
   ]
  },
  {
   "cell_type": "markdown",
   "metadata": {},
   "source": [
    "On remarque alors que le meilleur modèle _k_-NN après réduction de dimension grâce à l'ALD est celui dont le _k_ vaut 41 et son accuracy est d'environ 84%. Quant aux autres valeurs de _k_, on constate malgré tout qu'on arrive généralement au delà des 80% d'accuracy."
   ]
  },
  {
   "cell_type": "markdown",
   "metadata": {},
   "source": [
    "### Classification naïve bayésienne\n",
    "\n",
    "La classification naïve bayésienne se base sur le Théorème de Bayes pour classifier les données, en considérant chaque caractéristique (ici pixel) indépendamment des autres."
   ]
  },
  {
   "cell_type": "markdown",
   "metadata": {},
   "source": [
    "#### Mise en place"
   ]
  },
  {
   "cell_type": "markdown",
   "metadata": {},
   "source": [
    "On peut récupérer le temps d'entraînement et l'accuracy grâce à une fonction."
   ]
  },
  {
   "cell_type": "code",
   "execution_count": 21,
   "metadata": {},
   "outputs": [],
   "source": [
    "def find_nb(X_train, y_train, X_test, y_test):\n",
    "    if VERBOSE:\n",
    "        print('Computing naive Bayes classification…')\n",
    "\n",
    "    nb = GaussianNB()\n",
    "    start_time = time.time()\n",
    "    nb.fit(X_train, y_train)\n",
    "    nb_training_time = time.time() - start_time\n",
    "    nb_accuracy = nb.score(X_test, y_test)\n",
    "\n",
    "    if VERBOSE:\n",
    "        print('training_time =', nb_training_time)\n",
    "        print('accuracy =', nb_accuracy)\n",
    "    \n",
    "    return nb_training_time, nb_accuracy"
   ]
  },
  {
   "cell_type": "markdown",
   "metadata": {},
   "source": [
    "#### Classification des données brutes"
   ]
  },
  {
   "cell_type": "markdown",
   "metadata": {},
   "source": [
    "On calcule le temps d'entraînement et l'accuracy du modèle NB sur les données brutes."
   ]
  },
  {
   "cell_type": "code",
   "execution_count": 22,
   "metadata": {},
   "outputs": [
    {
     "name": "stdout",
     "output_type": "stream",
     "text": [
      "Computing naive Bayes classification…\n",
      "training_time = 0.2632157802581787\n",
      "accuracy = 0.5856\n",
      "Naive Bayes:\n",
      "  - Training Time: 0.26s.\n",
      "  - Accuracy: 58.56%.\n"
     ]
    }
   ],
   "source": [
    "nb_training_time, nb_accuracy = find_nb(X_train, y_train, X_test, y_test)\n",
    "\n",
    "print('Naive Bayes:')\n",
    "print('  - Training Time: %.2fs.' % nb_training_time)\n",
    "print('  - Accuracy: %.2f%%.' % (nb_accuracy * 100))"
   ]
  },
  {
   "cell_type": "markdown",
   "metadata": {},
   "source": [
    "On remarque que le modèle NB sur les données brutes a une accuracy d'environ 59%."
   ]
  },
  {
   "cell_type": "markdown",
   "metadata": {},
   "source": [
    "#### Classification après une ACP"
   ]
  },
  {
   "cell_type": "markdown",
   "metadata": {},
   "source": [
    "On calcule le temps d'entraînement et l'accuracy du modèle NB après réduction de dimension grâce à l'ACP."
   ]
  },
  {
   "cell_type": "code",
   "execution_count": 23,
   "metadata": {},
   "outputs": [
    {
     "name": "stdout",
     "output_type": "stream",
     "text": [
      "Computing naive Bayes classification…\n",
      "training_time = 0.010617256164550781\n",
      "accuracy = 0.6772\n",
      "Naive Bayes after PCA:\n",
      "  - Training Time: 0.01s.\n",
      "  - Accuracy: 67.72%.\n"
     ]
    }
   ],
   "source": [
    "pca_nb_training_time, pca_nb_accuracy = find_nb(Xp_train, y_train, Xp_test, y_test)\n",
    "\n",
    "print('Naive Bayes after PCA:')\n",
    "print('  - Training Time: %.2fs.' % pca_nb_training_time)\n",
    "print('  - Accuracy: %.2f%%.' % (pca_nb_accuracy * 100))"
   ]
  },
  {
   "cell_type": "markdown",
   "metadata": {},
   "source": [
    "On remarque que le modèle NB après réduction de dimensions grâce à l'ACP a une accuracy d'environ 68%."
   ]
  },
  {
   "cell_type": "markdown",
   "metadata": {},
   "source": [
    "#### Classification après une ALD"
   ]
  },
  {
   "cell_type": "markdown",
   "metadata": {},
   "source": [
    "On calcule le temps d'entraînement et l'accuracy du modèle NB après réduction de dimension grâce à l'ALD."
   ]
  },
  {
   "cell_type": "code",
   "execution_count": 24,
   "metadata": {},
   "outputs": [
    {
     "name": "stdout",
     "output_type": "stream",
     "text": [
      "Computing naive Bayes classification…\n",
      "training_time = 0.009877204895019531\n",
      "accuracy = 0.8172\n",
      "Naive Bayes after LDA:\n",
      "  - Training Time: 0.01s.\n",
      "  - Accuracy: 81.72%.\n"
     ]
    }
   ],
   "source": [
    "lda_nb_training_time, lda_nb_accuracy = find_nb(Xl_train, y_train, Xl_test, y_test)\n",
    "\n",
    "print('Naive Bayes after LDA:')\n",
    "print('  - Training Time: %.2fs.' % lda_nb_training_time)\n",
    "print('  - Accuracy: %.2f%%.' % (lda_nb_accuracy * 100))"
   ]
  },
  {
   "cell_type": "markdown",
   "metadata": {},
   "source": [
    "On remarque que le modèle NB après réduction de dimensions grâce à l'ALD a une accuracy d'environ 82%."
   ]
  },
  {
   "cell_type": "markdown",
   "metadata": {},
   "source": [
    "On constate un meilleur temps de calcul que sans réduction de dimension, mais dans les mêmes eaux qu'avec une ACP. \n",
    "\n",
    "Néanmoins une nette amélioration se démarque au niveau de l'accuracy. En effet, on gagne : \n",
    "- plus de 20% par rapport à une classification bayésienne sans réduction de dimension ;\n",
    "- plus de 10% par rapport à une classification bayésienne avec ACP."
   ]
  },
  {
   "cell_type": "markdown",
   "metadata": {},
   "source": [
    "### Arbre de décision\n",
    "\n",
    "Cette méthode est souvent préférée lorsque l'interprétabilité des résultats est plus importante que la performance. Or ici, il semble que la performance nous importe plus. De plus, comme on travaille sur des images et que chaque pixel fait office de descripteur, on a de très grandes chances de se retrouver avec un arbre très touffu et donc assez long à construire. Ce n'est donc sûrement pas la meilleure méthode à utiliser, du moins peut-être pas avant réduction de dimension. Testons cela."
   ]
  },
  {
   "cell_type": "markdown",
   "metadata": {},
   "source": [
    "#### Mise en place"
   ]
  },
  {
   "cell_type": "markdown",
   "metadata": {},
   "source": [
    "On peut récupérer le temps d'entraînement et l'accuracy grâce à une fonction, qui utilise dans un premier temps les hyper paramètres par défaut d'un classifieur arbre de décision."
   ]
  },
  {
   "cell_type": "code",
   "execution_count": 25,
   "metadata": {},
   "outputs": [],
   "source": [
    "def find_dt(X_train, y_train, X_test, y_test, params=None):\n",
    "    if VERBOSE:\n",
    "        if params == None:\n",
    "            print('Computing Decision Tree classification…')\n",
    "        else:\n",
    "            print('Computing %s Decision Tree classification…' % params)\n",
    "\n",
    "    if params == None:\n",
    "        dt = DecisionTreeClassifier()\n",
    "    else:\n",
    "        dt = DecisionTreeClassifier(\n",
    "                        criterion=params[0],\n",
    "                        max_depth=params[1],\n",
    "                        min_samples_leaf=params[2],\n",
    "                        min_samples_split=params[3]\n",
    "                    )\n",
    "\n",
    "    start_time = time.time()\n",
    "    dt.fit(X_train, y_train)\n",
    "    dt_training_time = time.time() - start_time\n",
    "    dt_accuracy = dt.score(X_test, y_test)\n",
    "\n",
    "    if VERBOSE:\n",
    "        print('training_time =', dt_training_time)\n",
    "        print('accuracy =', dt_accuracy)\n",
    "    \n",
    "    return dt_training_time, dt_accuracy, dt.tree_.max_depth"
   ]
  },
  {
   "cell_type": "markdown",
   "metadata": {},
   "source": [
    "#### Classification (initiale) des données brutes"
   ]
  },
  {
   "cell_type": "markdown",
   "metadata": {},
   "source": [
    "On calcule le temps d'entraînement et l'accuracy du modèle DT initial sur les données brutes."
   ]
  },
  {
   "cell_type": "code",
   "execution_count": 26,
   "metadata": {},
   "outputs": [
    {
     "name": "stdout",
     "output_type": "stream",
     "text": [
      "Computing Decision Tree classification…\n",
      "training_time = 26.394428730010986\n",
      "accuracy = 0.7917\n",
      "Decision Tree:\n",
      "  - Training Time: 26.39s.\n",
      "  - Accuracy: 79.17%.\n"
     ]
    }
   ],
   "source": [
    "default_dt_training_time, default_dt_accuracy, dt_max_depth = find_dt(X_train, y_train, X_test, y_test)\n",
    "\n",
    "print('Decision Tree:')\n",
    "print('  - Training Time: %.2fs.' % default_dt_training_time)\n",
    "print('  - Accuracy: %.2f%%.' % (default_dt_accuracy * 100))"
   ]
  },
  {
   "cell_type": "markdown",
   "metadata": {},
   "source": [
    "On remarque que le modèle DT initial sur les données brutes a une accuracy d'environ 79%."
   ]
  },
  {
   "cell_type": "markdown",
   "metadata": {},
   "source": [
    "Comme on l'avait prédit, le temps de calcul est considérablement important comparé aux 2 méthodes testées précédemment (entre 30 secondes et 1 minute). Cependant on obtient une accuracy :\n",
    "- bien meilleure que celle d'une classification bayésienne ;\n",
    "- légèrement inférieure à celle du meilleur modèle de k-NN. "
   ]
  },
  {
   "cell_type": "markdown",
   "metadata": {},
   "source": [
    "#### Optimisation"
   ]
  },
  {
   "cell_type": "markdown",
   "metadata": {},
   "source": [
    "Voyons si on peut améliorer ce modèle en changeant les hyper paramètres, sachant que par défaut ils sont définis comme ci-dessous :\n",
    "- `criterion='gini'`\n",
    "- `max_depth=None`\n",
    "- `min_samples_leaf=1`\n",
    "- `min_samples_split=2`"
   ]
  },
  {
   "cell_type": "markdown",
   "metadata": {},
   "source": [
    "Nous avons également besoin de calculer la profondeur pas défaut."
   ]
  },
  {
   "cell_type": "code",
   "execution_count": 27,
   "metadata": {},
   "outputs": [
    {
     "data": {
      "text/plain": [
       "dt_max_depth = 49"
      ]
     },
     "execution_count": 27,
     "metadata": {},
     "output_type": "execute_result"
    }
   ],
   "source": [
    "if VERBOSE:\n",
    "    print('dt_max_depth =', dt_max_depth)"
   ]
  },
  {
   "cell_type": "markdown",
   "metadata": {},
   "source": [
    "On trouve donc une profondeur de 49 par défaut."
   ]
  },
  {
   "cell_type": "markdown",
   "metadata": {},
   "source": [
    "Élaborons une nouvelle fonction qui permet de trouver le meilleur modèle d'arbre de décision."
   ]
  },
  {
   "cell_type": "code",
   "execution_count": 9,
   "metadata": {},
   "outputs": [],
   "source": [
    "criterion = ['gini', 'entropy']\n",
    "max_depth = [3, 5, 10]\n",
    "min_samples_leaf = [1, 2, 5]\n",
    "min_samples_split = [2, 3, 4]\n",
    "\n",
    "def find_best_dt(X_train, y_train, X_test, y_test):\n",
    "    best_params = None\n",
    "    best_dt_training_time, best_dt_accuracy = 0, 0\n",
    "\n",
    "    for c in criterion:\n",
    "        for depth in max_depth:\n",
    "            for l in min_samples_leaf:\n",
    "                for s in min_samples_split:\n",
    "\n",
    "                    params = [c, depth, l, s]\n",
    "                    dt_training_time, dt_accuracy, _ = find_dt(X_train, y_train, X_test, y_test, params)\n",
    "\n",
    "                    if best_dt_accuracy == 0 or dt_accuracy > best_dt_accuracy:\n",
    "                        best_params = params\n",
    "                        best_dt_training_time = dt_training_time\n",
    "                        best_dt_accuracy = dt_accuracy\n",
    "                        \n",
    "\n",
    "    if VERBOSE:\n",
    "        print('parameters:', best_params)\n",
    "        print('training_time =', best_dt_training_time)\n",
    "        print('accuracy =', best_dt_accuracy)\n",
    "    \n",
    "    return best_params, best_dt_training_time, best_dt_accuracy"
   ]
  },
  {
   "cell_type": "markdown",
   "metadata": {},
   "source": [
    "Nous avons élaboré cette fonction dans un premier temps, avant de trouver une méthode plus propre à l'aide de `RandomizedSearchCV`. On va également utiliser cette méthode pour vérifier et/ou comparer les résultats."
   ]
  },
  {
   "cell_type": "markdown",
   "metadata": {},
   "source": [
    "On commence par créer la _random grid_."
   ]
  },
  {
   "cell_type": "code",
   "execution_count": 10,
   "metadata": {},
   "outputs": [
    {
     "name": "stdout",
     "output_type": "stream",
     "text": [
      "{'criterion': ['gini', 'entropy'], 'max_depth': [3, 5, 10], 'min_samples_leaf': [1, 2, 5], 'min_samples_split': [2, 3, 4]}\n"
     ]
    }
   ],
   "source": [
    "random_grid = {\n",
    "    'criterion': criterion,\n",
    "    'max_depth': max_depth,\n",
    "    'min_samples_leaf': min_samples_leaf,\n",
    "    'min_samples_split': min_samples_split\n",
    "}\n",
    "\n",
    "if VERBOSE:\n",
    "    print(random_grid)"
   ]
  },
  {
   "cell_type": "markdown",
   "metadata": {},
   "source": [
    "Une fois créée on peut procéder à la recherche des meilleurs hyper paramètres."
   ]
  },
  {
   "cell_type": "code",
   "execution_count": 12,
   "metadata": {},
   "outputs": [
    {
     "name": "stdout",
     "output_type": "stream",
     "text": [
      "Fitting 3 folds for each of 10 candidates, totalling 30 fits\n",
      "[CV] END criterion=gini, max_depth=10, min_samples_leaf=1, min_samples_split=3; total time=  43.6s\n",
      "[CV] END criterion=gini, max_depth=10, min_samples_leaf=1, min_samples_split=3; total time=  44.1s\n",
      "[CV] END criterion=gini, max_depth=10, min_samples_leaf=1, min_samples_split=3; total time=  44.6s\n",
      "[CV] END criterion=entropy, max_depth=10, min_samples_leaf=2, min_samples_split=3; total time=  53.7s\n",
      "[CV] END criterion=entropy, max_depth=10, min_samples_leaf=2, min_samples_split=3; total time=  48.3s\n",
      "[CV] END criterion=entropy, max_depth=10, min_samples_leaf=2, min_samples_split=2; total time=  47.8s\n",
      "[CV] END criterion=entropy, max_depth=10, min_samples_leaf=2, min_samples_split=3; total time=  48.5s\n",
      "[CV] END criterion=entropy, max_depth=10, min_samples_leaf=2, min_samples_split=2; total time=  49.4s\n",
      "[CV] END criterion=gini, max_depth=5, min_samples_leaf=2, min_samples_split=2; total time=  19.7s\n",
      "[CV] END criterion=gini, max_depth=5, min_samples_leaf=2, min_samples_split=2; total time=  19.9s\n",
      "[CV] END criterion=gini, max_depth=5, min_samples_leaf=2, min_samples_split=2; total time=  20.1s\n",
      "[CV] END criterion=entropy, max_depth=5, min_samples_leaf=5, min_samples_split=4; total time=  21.0s\n",
      "[CV] END criterion=entropy, max_depth=5, min_samples_leaf=5, min_samples_split=4; total time=  21.0s\n",
      "[CV] END criterion=entropy, max_depth=10, min_samples_leaf=2, min_samples_split=2; total time=  47.3s\n",
      "[CV] END criterion=entropy, max_depth=5, min_samples_leaf=5, min_samples_split=4; total time=  20.1s\n",
      "[CV] END criterion=gini, max_depth=3, min_samples_leaf=2, min_samples_split=4; total time=  10.8s\n",
      "[CV] END criterion=gini, max_depth=3, min_samples_leaf=2, min_samples_split=4; total time=  11.1s\n",
      "[CV] END criterion=gini, max_depth=3, min_samples_leaf=2, min_samples_split=4; total time=  12.3s\n",
      "[CV] END criterion=gini, max_depth=5, min_samples_leaf=5, min_samples_split=4; total time=  22.4s\n",
      "[CV] END criterion=gini, max_depth=5, min_samples_leaf=5, min_samples_split=4; total time=  22.4s\n",
      "[CV] END criterion=gini, max_depth=5, min_samples_leaf=5, min_samples_split=4; total time=  22.5s\n",
      "[CV] END criterion=gini, max_depth=3, min_samples_leaf=2, min_samples_split=2; total time=  16.3s\n",
      "[CV] END criterion=gini, max_depth=3, min_samples_leaf=2, min_samples_split=2; total time=  10.1s\n",
      "[CV] END criterion=entropy, max_depth=10, min_samples_leaf=5, min_samples_split=3; total time=  50.6s\n",
      "[CV] END criterion=gini, max_depth=3, min_samples_leaf=2, min_samples_split=2; total time=  14.5s\n",
      "[CV] END criterion=entropy, max_depth=10, min_samples_leaf=5, min_samples_split=3; total time=  53.1s\n",
      "[CV] END criterion=entropy, max_depth=3, min_samples_leaf=2, min_samples_split=4; total time=  17.1s\n",
      "[CV] END criterion=entropy, max_depth=10, min_samples_leaf=5, min_samples_split=3; total time=  53.1s\n",
      "[CV] END criterion=entropy, max_depth=3, min_samples_leaf=2, min_samples_split=4; total time=  12.8s\n",
      "[CV] END criterion=entropy, max_depth=3, min_samples_leaf=2, min_samples_split=4; total time=   7.2s\n",
      "best_params {'min_samples_split': 3, 'min_samples_leaf': 2, 'max_depth': 10, 'criterion': 'entropy'}\n"
     ]
    }
   ],
   "source": [
    "dt = DecisionTreeClassifier()\n",
    "dt_random = RandomizedSearchCV(\n",
    "                        estimator=dt,\n",
    "                        param_distributions=random_grid,\n",
    "                        cv=3,\n",
    "                        verbose=2,\n",
    "                        random_state=42,\n",
    "                        n_jobs=-1 \n",
    "                    )\n",
    "dt_random.fit(X_train, y_train)\n",
    "\n",
    "if VERBOSE:\n",
    "        print('best_params', dt_random.best_params_)"
   ]
  },
  {
   "cell_type": "markdown",
   "metadata": {},
   "source": [
    "Il semble bon de préciser malgré tout que, quelque soit la méthode utilisée (manuelle ou « Grid Search »), la recherche du meilleur modèle DT est limitée par nos choix d'hyper paramètres à tester. En effet, le temps de calcul étant déjà suffisamment long, nous avons dû choisir lesquels appliquer. Tous ne seront dont pas testés."
   ]
  },
  {
   "cell_type": "markdown",
   "metadata": {},
   "source": [
    "#### Classification (optimisée) des données brutes"
   ]
  },
  {
   "cell_type": "markdown",
   "metadata": {},
   "source": [
    "On calcule le temps d'entraînement et l'accuracy du modèle DT optimisé sur les données brutes, avec notre version manuelle."
   ]
  },
  {
   "cell_type": "code",
   "execution_count": 29,
   "metadata": {},
   "outputs": [
    {
     "name": "stdout",
     "output_type": "stream",
     "text": [
      "Computing ['gini', 3, 1, 2] Decision Tree classification…\n",
      "training_time = 3.737954616546631\n",
      "accuracy = 0.4988\n",
      "Computing ['gini', 3, 1, 3] Decision Tree classification…\n",
      "training_time = 3.716620922088623\n",
      "accuracy = 0.4988\n",
      "Computing ['gini', 3, 1, 4] Decision Tree classification…\n",
      "training_time = 3.722123861312866\n",
      "accuracy = 0.4988\n",
      "Computing ['gini', 3, 2, 2] Decision Tree classification…\n",
      "training_time = 4.044227123260498\n",
      "accuracy = 0.4988\n",
      "Computing ['gini', 3, 2, 3] Decision Tree classification…\n",
      "training_time = 3.7708849906921387\n",
      "accuracy = 0.4988\n",
      "Computing ['gini', 3, 2, 4] Decision Tree classification…\n",
      "training_time = 3.7946438789367676\n",
      "accuracy = 0.4988\n",
      "Computing ['gini', 3, 5, 2] Decision Tree classification…\n",
      "training_time = 3.89794921875\n",
      "accuracy = 0.4988\n",
      "Computing ['gini', 3, 5, 3] Decision Tree classification…\n",
      "training_time = 3.8051912784576416\n",
      "accuracy = 0.4988\n",
      "Computing ['gini', 3, 5, 4] Decision Tree classification…\n",
      "training_time = 3.7640228271484375\n",
      "accuracy = 0.4988\n",
      "Computing ['gini', 5, 1, 2] Decision Tree classification…\n",
      "training_time = 6.13166618347168\n",
      "accuracy = 0.6938\n",
      "Computing ['gini', 5, 1, 3] Decision Tree classification…\n",
      "training_time = 6.160161018371582\n",
      "accuracy = 0.6938\n",
      "Computing ['gini', 5, 1, 4] Decision Tree classification…\n",
      "training_time = 6.171011924743652\n",
      "accuracy = 0.6938\n",
      "Computing ['gini', 5, 2, 2] Decision Tree classification…\n",
      "training_time = 6.058823823928833\n",
      "accuracy = 0.6938\n",
      "Computing ['gini', 5, 2, 3] Decision Tree classification…\n",
      "training_time = 6.0077080726623535\n",
      "accuracy = 0.6938\n",
      "Computing ['gini', 5, 2, 4] Decision Tree classification…\n",
      "training_time = 6.010511159896851\n",
      "accuracy = 0.6938\n",
      "Computing ['gini', 5, 5, 2] Decision Tree classification…\n",
      "training_time = 6.105865240097046\n",
      "accuracy = 0.6938\n",
      "Computing ['gini', 5, 5, 3] Decision Tree classification…\n",
      "training_time = 6.068000078201294\n",
      "accuracy = 0.6938\n",
      "Computing ['gini', 5, 5, 4] Decision Tree classification…\n",
      "training_time = 6.0650718212127686\n",
      "accuracy = 0.6938\n",
      "Computing ['gini', 10, 1, 2] Decision Tree classification…\n",
      "training_time = 11.63127088546753\n",
      "accuracy = 0.801\n",
      "Computing ['gini', 10, 1, 3] Decision Tree classification…\n",
      "training_time = 11.588763236999512\n",
      "accuracy = 0.8009\n",
      "Computing ['gini', 10, 1, 4] Decision Tree classification…\n",
      "training_time = 11.557811975479126\n",
      "accuracy = 0.8013\n",
      "Computing ['gini', 10, 2, 2] Decision Tree classification…\n",
      "training_time = 11.5555579662323\n",
      "accuracy = 0.8014\n",
      "Computing ['gini', 10, 2, 3] Decision Tree classification…\n",
      "training_time = 11.620087146759033\n",
      "accuracy = 0.8023\n",
      "Computing ['gini', 10, 2, 4] Decision Tree classification…\n",
      "training_time = 11.563037157058716\n",
      "accuracy = 0.801\n",
      "Computing ['gini', 10, 5, 2] Decision Tree classification…\n",
      "training_time = 11.766371011734009\n",
      "accuracy = 0.8015\n",
      "Computing ['gini', 10, 5, 3] Decision Tree classification…\n",
      "training_time = 11.761534929275513\n",
      "accuracy = 0.8018\n",
      "Computing ['gini', 10, 5, 4] Decision Tree classification…\n",
      "training_time = 11.78028392791748\n",
      "accuracy = 0.8014\n",
      "Computing ['entropy', 3, 1, 2] Decision Tree classification…\n",
      "training_time = 3.795750141143799\n",
      "accuracy = 0.5127\n",
      "Computing ['entropy', 3, 1, 3] Decision Tree classification…\n",
      "training_time = 3.7947440147399902\n",
      "accuracy = 0.5127\n",
      "Computing ['entropy', 3, 1, 4] Decision Tree classification…\n",
      "training_time = 3.802292823791504\n",
      "accuracy = 0.5127\n",
      "Computing ['entropy', 3, 2, 2] Decision Tree classification…\n",
      "training_time = 3.7946321964263916\n",
      "accuracy = 0.5127\n",
      "Computing ['entropy', 3, 2, 3] Decision Tree classification…\n",
      "training_time = 3.795578956604004\n",
      "accuracy = 0.5127\n",
      "Computing ['entropy', 3, 2, 4] Decision Tree classification…\n",
      "training_time = 3.7960009574890137\n",
      "accuracy = 0.5127\n",
      "Computing ['entropy', 3, 5, 2] Decision Tree classification…\n",
      "training_time = 3.79791522026062\n",
      "accuracy = 0.5127\n",
      "Computing ['entropy', 3, 5, 3] Decision Tree classification…\n",
      "training_time = 3.7933030128479004\n",
      "accuracy = 0.5127\n",
      "Computing ['entropy', 3, 5, 4] Decision Tree classification…\n",
      "training_time = 3.7917680740356445\n",
      "accuracy = 0.5127\n",
      "Computing ['entropy', 5, 1, 2] Decision Tree classification…\n",
      "training_time = 6.289246082305908\n",
      "accuracy = 0.7048\n",
      "Computing ['entropy', 5, 1, 3] Decision Tree classification…\n",
      "training_time = 6.276201009750366\n",
      "accuracy = 0.7048\n",
      "Computing ['entropy', 5, 1, 4] Decision Tree classification…\n",
      "training_time = 6.442056179046631\n",
      "accuracy = 0.7048\n",
      "Computing ['entropy', 5, 2, 2] Decision Tree classification…\n",
      "training_time = 6.469783067703247\n",
      "accuracy = 0.7048\n",
      "Computing ['entropy', 5, 2, 3] Decision Tree classification…\n",
      "training_time = 6.4712817668914795\n",
      "accuracy = 0.7048\n",
      "Computing ['entropy', 5, 2, 4] Decision Tree classification…\n",
      "training_time = 6.447574138641357\n",
      "accuracy = 0.7048\n",
      "Computing ['entropy', 5, 5, 2] Decision Tree classification…\n",
      "training_time = 6.44318413734436\n",
      "accuracy = 0.7048\n",
      "Computing ['entropy', 5, 5, 3] Decision Tree classification…\n",
      "training_time = 6.474748849868774\n",
      "accuracy = 0.7048\n",
      "Computing ['entropy', 5, 5, 4] Decision Tree classification…\n",
      "training_time = 6.451682090759277\n",
      "accuracy = 0.7048\n",
      "Computing ['entropy', 10, 1, 2] Decision Tree classification…\n",
      "training_time = 12.881014108657837\n",
      "accuracy = 0.8111\n",
      "Computing ['entropy', 10, 1, 3] Decision Tree classification…\n",
      "training_time = 12.87770700454712\n",
      "accuracy = 0.8105\n",
      "Computing ['entropy', 10, 1, 4] Decision Tree classification…\n",
      "training_time = 12.91019082069397\n",
      "accuracy = 0.8113\n",
      "Computing ['entropy', 10, 2, 2] Decision Tree classification…\n",
      "training_time = 12.862928867340088\n",
      "accuracy = 0.8108\n",
      "Computing ['entropy', 10, 2, 3] Decision Tree classification…\n",
      "training_time = 12.881901979446411\n",
      "accuracy = 0.8117\n",
      "Computing ['entropy', 10, 2, 4] Decision Tree classification…\n",
      "training_time = 12.97372317314148\n",
      "accuracy = 0.8102\n",
      "Computing ['entropy', 10, 5, 2] Decision Tree classification…\n",
      "training_time = 12.791632890701294\n",
      "accuracy = 0.8111\n",
      "Computing ['entropy', 10, 5, 3] Decision Tree classification…\n",
      "training_time = 12.803246974945068\n",
      "accuracy = 0.811\n",
      "Computing ['entropy', 10, 5, 4] Decision Tree classification…\n",
      "training_time = 12.831860065460205\n",
      "accuracy = 0.8105\n",
      "parameters: ['entropy', 10, 2, 3]\n",
      "training_time = 12.881901979446411\n",
      "accuracy = 0.8117\n",
      "['entropy', 10, 2, 3] Decision Tree:\n",
      "  - Training Time: 12.88s.\n",
      "  - Accuracy: 81.17%.\n"
     ]
    }
   ],
   "source": [
    "best_dt_params, best_dt_training_time, best_dt_accuracy = find_best_dt(X_train, y_train, X_test, y_test)\n",
    "\n",
    "print('Best Decision Tree:')\n",
    "print('  - Training Time: %.2fs.' % best_dt_training_time)\n",
    "print('  - Accuracy: %.2f%%.' % (best_dt_accuracy * 100))"
   ]
  },
  {
   "cell_type": "markdown",
   "metadata": {},
   "source": [
    "On remarque de le modèle DT optimisé sur les données brutes a une accuracy d'environ 81%. On retrouve également le même meilleur modèle que celui calculé par la méthode « Grid Search »."
   ]
  },
  {
   "cell_type": "markdown",
   "metadata": {},
   "source": [
    "On va faire la même chose en utilisant cette fois le meilleur modèle calculé avec la méthode « Grid Search »."
   ]
  },
  {
   "cell_type": "code",
   "execution_count": null,
   "metadata": {},
   "outputs": [],
   "source": [
    "best_dt_params, best_dt_training_time, best_dt_accuracy = find_dt(X_train, y_train, X_test, y_test, dt_random.best_params_)\n",
    "\n",
    "print('Best Decision Tree:')\n",
    "print('  - Training Time: %.2fs.' % best_dt_training_time)\n",
    "print('  - Accuracy: %.2f%%.' % (best_dt_accuracy * 100))"
   ]
  },
  {
   "cell_type": "markdown",
   "metadata": {},
   "source": [
    "On ne peut que remarquer que le temps de calcul est beaucoup moins long. Pour gagner du temps, on va garder la méthode « Grid Search » désormais. Sauvegardons les meilleurs hyper paramètres que l'on a obtenus pour ce test."
   ]
  },
  {
   "cell_type": "code",
   "execution_count": 13,
   "metadata": {},
   "outputs": [],
   "source": [
    "BEST_DT_PARAMS = {\n",
    "    'criterion': 'entropy',\n",
    "    'max_depth': 10,\n",
    "    'min_samples_leaf': 2,\n",
    "    'min_samples_split': 3\n",
    "}"
   ]
  },
  {
   "cell_type": "markdown",
   "metadata": {},
   "source": [
    "En outre, on constate qu'en passant d'une profondeur de 49 à 10, on obtient une accuracy légèrement améliorée ainsi qu'un temps de calcul divisé par 2 approximativement.\n",
    "\n",
    "En regardant un peu tous les modèles (une occurrence a été sauvegardée dans le fichier `find_best_dt.txt` car le temps de recherche est très long), on remarque notamment que :\n",
    "- c'est surtout le paramètre `max_depth` qui a une réelle influence sur l'accuracy et le temps de calcul ;\n",
    "- tous les modèles `max_depth=10` ont des résultats similaires."
   ]
  },
  {
   "cell_type": "markdown",
   "metadata": {},
   "source": [
    "Enfin, on sauvegarde également le temps d'entraînement et l'accuracy de la meilleure version, à savoir celle utilisant les meilleurs hyper paramètres."
   ]
  },
  {
   "cell_type": "code",
   "execution_count": null,
   "metadata": {},
   "outputs": [],
   "source": [
    "dt_training_time, dt_accuracy = best_dt_training_time, best_dt_accuracy"
   ]
  },
  {
   "cell_type": "markdown",
   "metadata": {},
   "source": [
    "#### Classification après une ACP"
   ]
  },
  {
   "cell_type": "markdown",
   "metadata": {},
   "source": [
    "On calcule le temps d'entraînement et l'accuracy du modèle DT initial après réduction de dimension grâce à l'ACP."
   ]
  },
  {
   "cell_type": "code",
   "execution_count": 31,
   "metadata": {},
   "outputs": [
    {
     "name": "stdout",
     "output_type": "stream",
     "text": [
      "Computing Decision Tree classification…\n",
      "training_time = 0.49593091011047363\n",
      "accuracy = 0.6966\n",
      "Decision Tree after PCA:\n",
      "  - Training Time: 0.50s.\n",
      "  - Accuracy: 69.66%.\n"
     ]
    }
   ],
   "source": [
    "pca_default_dt_training_time, pca_default_dt_accuracy, _ = find_dt(Xp_train, y_train, Xp_test, y_test)\n",
    "\n",
    "print('Decision Tree after PCA:')\n",
    "print('  - Training Time: %.2fs.' % pca_default_dt_training_time)\n",
    "print('  - Accuracy: %.2f%%.' % (pca_default_dt_accuracy * 100))"
   ]
  },
  {
   "cell_type": "markdown",
   "metadata": {},
   "source": [
    "On remarque que le modèle DT initial après réduction de dimension grâce à l'ACP a une accuracy d'environ 70%."
   ]
  },
  {
   "cell_type": "markdown",
   "metadata": {},
   "source": [
    "On fait de même avec la version optimisée."
   ]
  },
  {
   "cell_type": "code",
   "execution_count": 32,
   "metadata": {},
   "outputs": [
    {
     "name": "stdout",
     "output_type": "stream",
     "text": [
      "Computing ['entropy', 10, 2, 3] Decision Tree classification…\n",
      "training_time = 0.4896390438079834\n",
      "accuracy = 0.7269\n",
      "Best Decision Tree after PCA:\n",
      "  - Training Time: 0.49s.\n",
      "  - Accuracy: 72.69%.\n"
     ]
    }
   ],
   "source": [
    "pca_best_dt_training_time, pca_best_dt_accuracy, _ = find_dt(Xp_train, y_train, Xp_test, y_test, BEST_DT_PARAMS)\n",
    "\n",
    "print('Best Decision Tree after PCA:')\n",
    "print('  - Training Time: %.2fs.' % pca_best_dt_training_time)\n",
    "print('  - Accuracy: %.2f%%.' % (pca_best_dt_accuracy * 100))"
   ]
  },
  {
   "cell_type": "markdown",
   "metadata": {},
   "source": [
    "On remarque que le modèle DT optimisé après réduction de dimension grâce à l'ACP a une accuracy d'environ 73%."
   ]
  },
  {
   "cell_type": "markdown",
   "metadata": {},
   "source": [
    "Dans les 2 cas, on observe qu'on a considérablement diminué le temps de calcul, comparé au même modèle sans réduction de dimension. Néanmoins, l'accuracy a emboîté le pas. En effet, on a perdu 10% d'accuracy, en obtenant désormais environ 70%. Par conséquent, ces 2 modèles semblent plutôt équivalents, et sont meilleurs que le même modèle sans réduction de dimension.\n",
    "\n",
    "On va comme précédemment sauvegarder le temps d'entraînement et l'accuracy du modèle avec les meilleurs hyper paramètres."
   ]
  },
  {
   "cell_type": "code",
   "execution_count": null,
   "metadata": {},
   "outputs": [],
   "source": [
    "pca_dt_training_time, pca_dt_accuracy = pca_best_dt_training_time, pca_best_dt_accuracy"
   ]
  },
  {
   "cell_type": "markdown",
   "metadata": {},
   "source": [
    "#### Classification après une ALD"
   ]
  },
  {
   "cell_type": "markdown",
   "metadata": {},
   "source": [
    "On calcule le temps d'entraînement et l'accuracy du modèle DT initial après une réduction de dimension grâce à l'ALD."
   ]
  },
  {
   "cell_type": "code",
   "execution_count": 33,
   "metadata": {},
   "outputs": [
    {
     "name": "stdout",
     "output_type": "stream",
     "text": [
      "Computing Decision Tree classification…\n",
      "training_time = 0.7852098941802979\n",
      "accuracy = 0.777\n",
      "Decision Tree after LDA:\n",
      "  - Training Time: 0.79s.\n",
      "  - Accuracy: 77.70%.\n"
     ]
    }
   ],
   "source": [
    "lda_default_dt_training_time, lda_default_dt_accuracy, _ = find_dt(Xl_train, y_train, Xl_test, y_test)\n",
    "\n",
    "print('Decision Tree after LDA:')\n",
    "print('  - Training Time: %.2fs.' % lda_default_dt_training_time)\n",
    "print('  - Accuracy: %.2f%%.' % (lda_default_dt_accuracy * 100))"
   ]
  },
  {
   "cell_type": "markdown",
   "metadata": {},
   "source": [
    "On remarque que le modèle DT initial après une réduction de dimension grâce à l'ALD a une accuracy d'environ 78%."
   ]
  },
  {
   "cell_type": "markdown",
   "metadata": {},
   "source": [
    "On observe un temps de calcul similaire au modèle avec ACP, donc beaucoup plus court que le modèle sans réduction de dimension. De plus, l'accuracy se rapproche désormais plus de 80% que de 70% contrairement au modèle avec ACP, pour un même temps de calcul. Ce modèle semble donc meilleur."
   ]
  },
  {
   "cell_type": "markdown",
   "metadata": {},
   "source": [
    "On fait de même avec la version optimisée."
   ]
  },
  {
   "cell_type": "code",
   "execution_count": 34,
   "metadata": {},
   "outputs": [
    {
     "name": "stdout",
     "output_type": "stream",
     "text": [
      "Computing ['entropy', 10, 2, 3] Decision Tree classification…\n",
      "training_time = 0.6848828792572021\n",
      "accuracy = 0.8136\n",
      "Best Decision Tree after LDA:\n",
      "  - Training Time: 0.68s.\n",
      "  - Accuracy: 81.36%.\n"
     ]
    }
   ],
   "source": [
    "lda_best_dt_training_time, lda_best_dt_accuracy, _ = find_dt(Xl_train, y_train, Xl_test, y_test, BEST_DT_PARAMS)\n",
    "\n",
    "print('Best Decision Tree after LDA:')\n",
    "print('  - Training Time: %.2fs.' % lda_best_dt_training_time)\n",
    "print('  - Accuracy: %.2f%%.' % (lda_best_dt_accuracy * 100))"
   ]
  },
  {
   "cell_type": "markdown",
   "metadata": {},
   "source": [
    "On remarque que le modèle DT optimisé après une réduction de dimension grâce à l'ALD a une accuracy d'environ 81%."
   ]
  },
  {
   "cell_type": "markdown",
   "metadata": {},
   "source": [
    "Le modèle avec les meilleurs paramètres a quant à lui une accuracy qui passe la barre des 80%, cela reste tout de même similaire au modèle précédent. Le temps de calcul est également similaire. On peut considérer que ce modèle est meilleur (mais on n'est pas à 4% près…). On va donc sauvegarder ses valeurs."
   ]
  },
  {
   "cell_type": "code",
   "execution_count": null,
   "metadata": {},
   "outputs": [],
   "source": [
    "lda_dt_training_time, lda_dt_accuracy = lda_best_dt_training_time, lda_best_dt_accuracy"
   ]
  },
  {
   "cell_type": "markdown",
   "metadata": {},
   "source": [
    "### Forêt aléatoire\n",
    "\n",
    "Ici, on utilise un ensemble d'arbres de décision, entraînés sur des sous-ensembles de données légèrement différents."
   ]
  },
  {
   "cell_type": "markdown",
   "metadata": {},
   "source": [
    "#### Mise en place"
   ]
  },
  {
   "cell_type": "markdown",
   "metadata": {},
   "source": [
    "On peut récupérer le temps d'entraînement et l'accuracy grâce à une fonction, qui, de la même manière qu'avec les arbres de décision, utilise dans un premier temps les hyper paramètres par défaut d'un classifieur forêt aléatoire."
   ]
  },
  {
   "cell_type": "code",
   "execution_count": 35,
   "metadata": {},
   "outputs": [],
   "source": [
    "def find_rf(X_train, y_train, X_test, y_test):\n",
    "    if VERBOSE:\n",
    "        print('Computing Random Forest classification…')\n",
    "    \n",
    "    rf = RandomForestClassifier()\n",
    "    start_time = time.time()\n",
    "    rf.fit(X_train, y_train)\n",
    "    rf_training_time = time.time() - start_time\n",
    "    rf_accuracy = rf.score(X_test, y_test)\n",
    "\n",
    "    if VERBOSE:\n",
    "        print('training_time =', rf_training_time)\n",
    "        print('accuracy =', rf_accuracy)\n",
    "    \n",
    "    return rf_training_time, rf_accuracy"
   ]
  },
  {
   "cell_type": "markdown",
   "metadata": {},
   "source": [
    "#### Classification (initiale) des données brutes"
   ]
  },
  {
   "cell_type": "markdown",
   "metadata": {},
   "source": [
    "On calcule le temps d'entraînement et l'accuracy du modèle RF initial sur les données brutes."
   ]
  },
  {
   "cell_type": "code",
   "execution_count": 36,
   "metadata": {},
   "outputs": [
    {
     "name": "stdout",
     "output_type": "stream",
     "text": [
      "Computing Random Forest classification…\n",
      "training_time = 50.29429817199707\n",
      "accuracy = 0.8761\n",
      "Random Forest:\n",
      "  - Training Time: 50.29s.\n",
      "  - Accuracy: 87.61%.\n"
     ]
    }
   ],
   "source": [
    "default_rf_training_time, default_rf_accuracy = find_rf(X_train, y_train, X_test, y_test)\n",
    "\n",
    "print('Random Forest:')\n",
    "print('  - Training Time: %.2fs.' % default_rf_training_time)\n",
    "print('  - Accuracy: %.2f%%.' % (default_rf_accuracy * 100))"
   ]
  },
  {
   "cell_type": "markdown",
   "metadata": {},
   "source": [
    "On remarque que le modèle RF initial sur les données brutes a une accuracy d'environ 88%."
   ]
  },
  {
   "cell_type": "markdown",
   "metadata": {},
   "source": [
    "C'est le plus long temps de calcul obtenu jusqu'ici, mais aussi la meilleure accuracy. Il est sûrement possible d'améliorer ce modèle en changeant les hyper paramètres."
   ]
  },
  {
   "cell_type": "markdown",
   "metadata": {},
   "source": [
    "#### Optimisation"
   ]
  },
  {
   "cell_type": "markdown",
   "metadata": {},
   "source": [
    "On a vu précédement, avec les arbres de décision, qu'une recherche « exhaustive » était plutôt longue. Nous allons utiliser uniquement la méthode « Grid Search » cette fois."
   ]
  },
  {
   "cell_type": "markdown",
   "metadata": {},
   "source": [
    "Par défaut, les hyper paramètres sont définis comme ci-dessous :\n",
    "\n",
    "- `n_estimators=100`\n",
    "- `max_features='auto'`\n",
    "- `max_depth=None`\n",
    "- `min_samples_split=2`\n",
    "- `min_samples_leaf=1`\n",
    "- `bootstrap=True`"
   ]
  },
  {
   "cell_type": "markdown",
   "metadata": {},
   "source": [
    "On commence par créer la _random grid_."
   ]
  },
  {
   "cell_type": "code",
   "execution_count": 37,
   "metadata": {},
   "outputs": [
    {
     "name": "stdout",
     "output_type": "stream",
     "text": [
      "{'n_estimators': [200, 400, 600, 800, 1000, 1200, 1400, 1600, 1800, 2000], 'max_features': ['auto', 'sqrt'], 'max_depth': [10, 20, 30, 40, 50, 60, 70, 80, 90, 100, 110], 'min_samples_split': [2, 5, 10], 'min_samples_leaf': [1, 2, 4], 'bootstrap': [True, False]}\n"
     ]
    }
   ],
   "source": [
    "n_estimators = [int(x) for x in np.linspace(start = 200, stop = 2000, num = 10)]\n",
    "max_features = ['auto', 'sqrt']\n",
    "max_depth = [int(x) for x in np.linspace(10, 110, num = 11)]\n",
    "min_samples_split = [2, 5, 10]\n",
    "min_samples_leaf = [1, 2, 4]\n",
    "bootstrap = [True, False]\n",
    "\n",
    "random_grid = {\n",
    "    'n_estimators': n_estimators,\n",
    "    'max_features': max_features,\n",
    "    'max_depth': max_depth,\n",
    "    'min_samples_split': min_samples_split,\n",
    "    'min_samples_leaf': min_samples_leaf,\n",
    "    'bootstrap': bootstrap\n",
    "}\n",
    "\n",
    "if VERBOSE:\n",
    "    print(random_grid)"
   ]
  },
  {
   "cell_type": "markdown",
   "metadata": {},
   "source": [
    "On récupère ensuite les meilleurs hyper paramètres."
   ]
  },
  {
   "cell_type": "code",
   "execution_count": 38,
   "metadata": {},
   "outputs": [
    {
     "name": "stdout",
     "output_type": "stream",
     "text": [
      "Fitting 3 folds for each of 10 candidates, totalling 30 fits\n",
      "[CV] END bootstrap=True, max_depth=50, max_features=sqrt, min_samples_leaf=2, min_samples_split=10, n_estimators=200; total time= 2.6min\n",
      "[CV] END bootstrap=True, max_depth=50, max_features=sqrt, min_samples_leaf=2, min_samples_split=10, n_estimators=200; total time= 2.6min\n",
      "[CV] END bootstrap=True, max_depth=50, max_features=sqrt, min_samples_leaf=2, min_samples_split=10, n_estimators=200; total time= 3.1min\n",
      "[CV] END bootstrap=True, max_depth=80, max_features=auto, min_samples_leaf=2, min_samples_split=2, n_estimators=1000; total time=12.2min\n",
      "[CV] END bootstrap=True, max_depth=80, max_features=auto, min_samples_leaf=2, min_samples_split=2, n_estimators=1000; total time=11.3min\n",
      "[CV] END bootstrap=True, max_depth=70, max_features=auto, min_samples_leaf=2, min_samples_split=10, n_estimators=200; total time= 2.1min\n",
      "[CV] END bootstrap=False, max_depth=70, max_features=sqrt, min_samples_leaf=1, min_samples_split=10, n_estimators=1000; total time=19.4min\n",
      "[CV] END bootstrap=False, max_depth=70, max_features=sqrt, min_samples_leaf=1, min_samples_split=10, n_estimators=1000; total time=19.5min\n",
      "[CV] END bootstrap=False, max_depth=70, max_features=sqrt, min_samples_leaf=1, min_samples_split=10, n_estimators=1000; total time=19.5min\n",
      "[CV] END bootstrap=True, max_depth=70, max_features=auto, min_samples_leaf=2, min_samples_split=10, n_estimators=200; total time= 2.1min\n",
      "[CV] END bootstrap=True, max_depth=70, max_features=auto, min_samples_leaf=2, min_samples_split=10, n_estimators=200; total time= 2.1min\n",
      "[CV] END bootstrap=True, max_depth=80, max_features=auto, min_samples_leaf=2, min_samples_split=2, n_estimators=1000; total time=10.7min\n",
      "[CV] END bootstrap=False, max_depth=90, max_features=auto, min_samples_leaf=4, min_samples_split=10, n_estimators=1600; total time=27.4min\n",
      "[CV] END bootstrap=False, max_depth=90, max_features=auto, min_samples_leaf=4, min_samples_split=10, n_estimators=1600; total time=27.6min\n",
      "[CV] END bootstrap=False, max_depth=90, max_features=auto, min_samples_leaf=4, min_samples_split=10, n_estimators=1600; total time=27.6min\n",
      "[CV] END bootstrap=False, max_depth=100, max_features=sqrt, min_samples_leaf=4, min_samples_split=10, n_estimators=600; total time= 9.4min\n",
      "[CV] END bootstrap=True, max_depth=70, max_features=auto, min_samples_leaf=1, min_samples_split=5, n_estimators=1200; total time=13.0min\n",
      "[CV] END bootstrap=True, max_depth=70, max_features=auto, min_samples_leaf=1, min_samples_split=5, n_estimators=1200; total time=13.0min\n",
      "[CV] END bootstrap=True, max_depth=70, max_features=auto, min_samples_leaf=1, min_samples_split=5, n_estimators=1200; total time=13.0min\n",
      "[CV] END bootstrap=False, max_depth=100, max_features=sqrt, min_samples_leaf=4, min_samples_split=10, n_estimators=600; total time= 9.4min\n",
      "[CV] END bootstrap=False, max_depth=100, max_features=sqrt, min_samples_leaf=4, min_samples_split=10, n_estimators=600; total time= 9.4min\n",
      "[CV] END bootstrap=False, max_depth=70, max_features=auto, min_samples_leaf=2, min_samples_split=2, n_estimators=600; total time= 9.9min\n",
      "[CV] END bootstrap=False, max_depth=70, max_features=auto, min_samples_leaf=2, min_samples_split=2, n_estimators=600; total time= 9.9min\n",
      "[CV] END bootstrap=False, max_depth=70, max_features=auto, min_samples_leaf=2, min_samples_split=2, n_estimators=600; total time= 9.8min\n",
      "[CV] END bootstrap=True, max_depth=100, max_features=auto, min_samples_leaf=1, min_samples_split=5, n_estimators=1800; total time=17.6min\n",
      "[CV] END bootstrap=True, max_depth=100, max_features=auto, min_samples_leaf=1, min_samples_split=5, n_estimators=1800; total time=17.6min\n",
      "[CV] END bootstrap=True, max_depth=100, max_features=auto, min_samples_leaf=1, min_samples_split=5, n_estimators=1800; total time=17.1min\n",
      "[CV] END bootstrap=False, max_depth=20, max_features=auto, min_samples_leaf=1, min_samples_split=2, n_estimators=2000; total time=24.7min\n",
      "[CV] END bootstrap=False, max_depth=20, max_features=auto, min_samples_leaf=1, min_samples_split=2, n_estimators=2000; total time=23.9min\n",
      "[CV] END bootstrap=False, max_depth=20, max_features=auto, min_samples_leaf=1, min_samples_split=2, n_estimators=2000; total time=23.6min\n"
     ]
    },
    {
     "data": {
      "text/plain": [
       "RandomizedSearchCV(cv=3, estimator=RandomForestClassifier(), n_jobs=-1,\n",
       "                   param_distributions={'bootstrap': [True, False],\n",
       "                                        'max_depth': [10, 20, 30, 40, 50, 60,\n",
       "                                                      70, 80, 90, 100, 110],\n",
       "                                        'max_features': ['auto', 'sqrt'],\n",
       "                                        'min_samples_leaf': [1, 2, 4],\n",
       "                                        'min_samples_split': [2, 5, 10],\n",
       "                                        'n_estimators': [200, 400, 600, 800,\n",
       "                                                         1000, 1200, 1400, 1600,\n",
       "                                                         1800, 2000]},\n",
       "                   random_state=42, verbose=2)"
      ]
     },
     "execution_count": 48,
     "metadata": {},
     "output_type": "execute_result"
    }
   ],
   "source": [
    "# This is long so we only did it once.\n",
    "\n",
    "if False:\n",
    "    rf = RandomForestClassifier()\n",
    "    rf_random = RandomizedSearchCV(estimator = rf, param_distributions = random_grid, cv=3, verbose=2, random_state=42, n_jobs = -1)\n",
    "    rf_random.fit(X_train, y_train)\n",
    "\n",
    "    if VERBOSE:\n",
    "        print('best_params', rf_random.best_params_)"
   ]
  },
  {
   "cell_type": "markdown",
   "metadata": {},
   "source": [
    "Comme précédemment, on rappelle que la recherche du meilleur modèle RF est limitée par nos choix d'hyper paramètres à tester à cause du temps de calcul déjà extrèmement élevé."
   ]
  },
  {
   "cell_type": "markdown",
   "metadata": {},
   "source": [
    "On sauvegarde les meilleurs hyper paramètres."
   ]
  },
  {
   "cell_type": "code",
   "execution_count": 39,
   "metadata": {},
   "outputs": [],
   "source": [
    "BEST_RF_PARAMS = {\n",
    "    'n_estimators': 600,\n",
    "    'min_samples_split': 2,\n",
    "    'min_samples_leaf': 2,\n",
    "    'max_features': 'auto',\n",
    "    'max_depth': 70,\n",
    "    'bootstrap': False\n",
    "}"
   ]
  },
  {
   "cell_type": "markdown",
   "metadata": {},
   "source": [
    "Élaborons une nouvelle fonction qui permet de récupérer le temps d'entraînement et l'accuracy du meilleur modèle de forêt aléatoire."
   ]
  },
  {
   "cell_type": "code",
   "execution_count": 40,
   "metadata": {},
   "outputs": [],
   "source": [
    "def find_rf_optimized(X_train, y_train, X_test, y_test):\n",
    "    if VERBOSE:\n",
    "        print('Computing Random Forest classification…')\n",
    "\n",
    "    rf = RandomForestClassifier(\n",
    "        n_estimators=BEST_RF_PARAMS.get('n_estimators'),\n",
    "        max_features=BEST_RF_PARAMS.get('max_features'),\n",
    "        max_depth=BEST_RF_PARAMS.get('max_depth'),\n",
    "        min_samples_split=BEST_RF_PARAMS.get('min_samples_split'),\n",
    "        min_samples_leaf=BEST_RF_PARAMS.get('min_samples_leaf'),\n",
    "        bootstrap=BEST_RF_PARAMS.get('bootstrap'),\n",
    "    )\n",
    "    start_time = time.time()\n",
    "    rf.fit(X_train, y_train)\n",
    "    rf_training_time = time.time() - start_time\n",
    "    rf_accuracy = rf.score(X_test, y_test)\n",
    "\n",
    "    if VERBOSE:\n",
    "        print('parameters:', BEST_RF_PARAMS)\n",
    "        print('training_time =', rf_training_time)\n",
    "        print('accuracy =', rf_accuracy)\n",
    "    \n",
    "    return rf_training_time, rf_accuracy"
   ]
  },
  {
   "cell_type": "markdown",
   "metadata": {},
   "source": [
    "#### Classification (optimisée) des données brutes"
   ]
  },
  {
   "cell_type": "markdown",
   "metadata": {},
   "source": [
    "On calcule le temps d'entraînement et l'accuracy du modèle RF optimisé sur les données brutes."
   ]
  },
  {
   "cell_type": "code",
   "execution_count": 41,
   "metadata": {},
   "outputs": [
    {
     "name": "stdout",
     "output_type": "stream",
     "text": [
      "Computing Random Forest classification…\n",
      "parameters: {'n_estimators': 600, 'min_samples_split': 2, 'min_samples_leaf': 2, 'max_features': 'auto', 'max_depth': 70, 'bootstrap': False}\n",
      "training_time = 468.4499728679657\n",
      "accuracy = 0.8839\n",
      "Best Random Forest:\n",
      "  - Training Time: 468.45s.\n",
      "  - Accuracy: 88.39%.\n"
     ]
    }
   ],
   "source": [
    "best_rf_training_time, best_rf_accuracy = find_rf_optimized(X_train, y_train, X_test, y_test)\n",
    "\n",
    "print('Best Random Forest:')\n",
    "print('  - Training Time: %.2fs.' % best_rf_training_time)\n",
    "print('  - Accuracy: %.2f%%.' % (best_rf_accuracy * 100))"
   ]
  },
  {
   "cell_type": "markdown",
   "metadata": {},
   "source": [
    "On remarque que le modèle RF optimisé après réduction de dimension grâce à l'ACP a une accuracy d'environ 88%."
   ]
  },
  {
   "cell_type": "markdown",
   "metadata": {},
   "source": [
    "La version utilisant les meilleurs hyper paramètres possibles parmi ceux fournis via la _random grid_ semble obtenir un résultat à peine meilleur voire équivalent à ce niveau de différence. Cependant, le temps d'entraînement a été drastiquement augmenté. On peut donc considérer ce modèle comme moins performant que celui utilisant les paramètres par défaut. On sauvegarde donc la version initiale."
   ]
  },
  {
   "cell_type": "code",
   "execution_count": null,
   "metadata": {},
   "outputs": [],
   "source": [
    "rf_training_time, rf_accuracy = default_rf_training_time, default_rf_accuracy"
   ]
  },
  {
   "cell_type": "markdown",
   "metadata": {},
   "source": [
    "#### Classification après une ACP"
   ]
  },
  {
   "cell_type": "markdown",
   "metadata": {},
   "source": [
    "On calcule le temps d'entraînement et l'accuracy du modèle RF initial après réduction de dimension grâce à l'ACP."
   ]
  },
  {
   "cell_type": "code",
   "execution_count": 42,
   "metadata": {},
   "outputs": [
    {
     "name": "stdout",
     "output_type": "stream",
     "text": [
      "Computing Random Forest classification…\n",
      "training_time = 10.328389167785645\n",
      "accuracy = 0.7784\n",
      "Random Forest after PCA:\n",
      "  - Training Time: 10.33s.\n",
      "  - Accuracy: 77.84%.\n"
     ]
    }
   ],
   "source": [
    "pca_default_rf_training_time, pca_default_rf_accuracy = find_rf(Xp_train, y_train, Xp_test, y_test)\n",
    "\n",
    "print('Random Forest after PCA:')\n",
    "print('  - Training Time: %.2fs.' % pca_default_rf_training_time)\n",
    "print('  - Accuracy: %.2f%%.' % (pca_default_rf_accuracy * 100))"
   ]
  },
  {
   "cell_type": "markdown",
   "metadata": {},
   "source": [
    "On remarque que le modèle RF initial après réduction de dimension grâce à l'ACP a une accuracy d'environ 78%."
   ]
  },
  {
   "cell_type": "markdown",
   "metadata": {},
   "source": [
    "On fait de même avec la version optimisée."
   ]
  },
  {
   "cell_type": "code",
   "execution_count": 43,
   "metadata": {},
   "outputs": [
    {
     "name": "stdout",
     "output_type": "stream",
     "text": [
      "Computing Random Forest classification…\n",
      "parameters: {'n_estimators': 600, 'min_samples_split': 2, 'min_samples_leaf': 2, 'max_features': 'auto', 'max_depth': 70, 'bootstrap': False}\n",
      "training_time = 99.56964087486267\n",
      "accuracy = 0.7791\n",
      "Best Random Forest after PCA:\n",
      "  - Training Time: 99.57s.\n",
      "  - Accuracy: 77.91%.\n"
     ]
    }
   ],
   "source": [
    "pca_best_rf_training_time, pca_best_rf_accuracy = find_rf_optimized(Xp_train, y_train, Xp_test, y_test)\n",
    "\n",
    "print('Best Random Forest after PCA:')\n",
    "print('  - Training Time: %.2fs.' % pca_best_rf_training_time)\n",
    "print('  - Accuracy: %.2f%%.' % (pca_best_rf_accuracy * 100))"
   ]
  },
  {
   "cell_type": "markdown",
   "metadata": {},
   "source": [
    "On remarque que le modèle RF optimisé après réduction de dimension grâce à l'ACP a une accuracy d'environ 78%."
   ]
  },
  {
   "cell_type": "markdown",
   "metadata": {},
   "source": [
    "Ici, on retrouve comme sur les données brutes, une accuracy équivalente à la version par défaut, mais un temps d'entraînement bien plus élevé. Il n'est donc pas non plus rentable d'utiliser un tel modèle."
   ]
  },
  {
   "cell_type": "code",
   "execution_count": null,
   "metadata": {},
   "outputs": [],
   "source": [
    "pca_rf_training_time, pca_rf_accuracy = pca_default_rf_training_time, pca_default_rf_accuracy"
   ]
  },
  {
   "cell_type": "markdown",
   "metadata": {},
   "source": [
    "#### Classification après une ALD"
   ]
  },
  {
   "cell_type": "markdown",
   "metadata": {},
   "source": [
    "On calcule le temps d'entraînement et l'accuracy du modèle RF initial après réduction de dimension grâce à l'ALD."
   ]
  },
  {
   "cell_type": "code",
   "execution_count": 44,
   "metadata": {},
   "outputs": [
    {
     "name": "stdout",
     "output_type": "stream",
     "text": [
      "Computing Random Forest classification…\n",
      "training_time = 16.171419858932495\n",
      "accuracy = 0.8382\n",
      "Random Forest after LDA:\n",
      "  - Training Time: 16.17s.\n",
      "  - Accuracy: 83.82%.\n"
     ]
    }
   ],
   "source": [
    "lda_default_rf_training_time, lda_default_rf_accuracy = find_rf(Xl_train, y_train, Xl_test, y_test)\n",
    "\n",
    "print('Random Forest after LDA:')\n",
    "print('  - Training Time: %.2fs.' % lda_default_rf_training_time)\n",
    "print('  - Accuracy: %.2f%%.' % (lda_default_rf_accuracy * 100))"
   ]
  },
  {
   "cell_type": "markdown",
   "metadata": {},
   "source": [
    "On remarque que le modèle RF initial après réduction de dimension grâce à l'ALD a une accuracy d'environ 84%."
   ]
  },
  {
   "cell_type": "markdown",
   "metadata": {},
   "source": [
    "On fait de même avec la version optimisée."
   ]
  },
  {
   "cell_type": "code",
   "execution_count": 45,
   "metadata": {},
   "outputs": [
    {
     "name": "stdout",
     "output_type": "stream",
     "text": [
      "Computing Random Forest classification…\n",
      "parameters: {'n_estimators': 600, 'min_samples_split': 2, 'min_samples_leaf': 2, 'max_features': 'auto', 'max_depth': 70, 'bootstrap': False}\n",
      "training_time = 158.083811044693\n",
      "accuracy = 0.8404\n",
      "Best Random Forest after LDA:\n",
      "  - Training Time: 158.08s.\n",
      "  - Accuracy: 84.04%.\n"
     ]
    }
   ],
   "source": [
    "lda_best_rf_training_time, lda_best_rf_accuracy = find_rf_optimized(Xl_train, y_train, Xl_test, y_test)\n",
    "\n",
    "print('Best Random Forest after LDA:')\n",
    "print('  - Training Time: %.2fs.' % lda_best_rf_training_time)\n",
    "print('  - Accuracy: %.2f%%.' % (lda_best_rf_accuracy * 100))"
   ]
  },
  {
   "cell_type": "markdown",
   "metadata": {},
   "source": [
    "On remarque que le modèle RF optimisé après réduction de dimension grâce à l'ALD a une accuracy d'environ 84%."
   ]
  },
  {
   "cell_type": "markdown",
   "metadata": {},
   "source": [
    "Encore une fois, on se retrouve avec moins de 1% d'accuracy de différence, mais un temps d'entraînement beaucoup trop long pour faire de ce modèle un meilleur que celui par défaut."
   ]
  },
  {
   "cell_type": "code",
   "execution_count": null,
   "metadata": {},
   "outputs": [],
   "source": [
    "lda_rf_training_time, lda_rf_accuracy = lda_default_rf_training_time, lda_default_rf_accuracy"
   ]
  },
  {
   "cell_type": "markdown",
   "metadata": {},
   "source": [
    "## Conclusion\n",
    "\n",
    "À partir des accuracy calculées dans la partie précédente, il est possible de déterminer quelles sont les meilleures pour ces données."
   ]
  },
  {
   "cell_type": "markdown",
   "metadata": {},
   "source": [
    "On peut trier toutes les accuracy par ordre décroissant."
   ]
  },
  {
   "cell_type": "code",
   "execution_count": 46,
   "metadata": {},
   "outputs": [],
   "source": [
    "models = {\n",
    "    '%d-Nearest Neighbors' % knn_k: (knn_training_time, knn_accuracy),\n",
    "    '%d-Nearest Neighbors after PCA' % pca_knn_k: (pca_knn_training_time, pca_knn_accuracy),\n",
    "    '%d-Nearest Neighbors after LDA' % lda_knn_k: (lda_knn_training_time, lda_knn_accuracy),\n",
    "    'Naive Bayes': (nb_training_time, nb_accuracy),\n",
    "    'Naive Bayes after PCA': (pca_nb_training_time, pca_nb_accuracy),\n",
    "    'Naive Bayes after LDA': (lda_nb_training_time, lda_nb_accuracy),\n",
    "    'Decision Tree': (dt_training_time, dt_accuracy),\n",
    "    'Decision Tree after PCA': (pca_dt_training_time, pca_dt_accuracy),\n",
    "    'Decision Tree after LDA': (lda_dt_training_time, lda_dt_accuracy),\n",
    "    'Random Forest': (rf_training_time, rf_accuracy),\n",
    "    'Random Forest after PCA': (pca_rf_training_time, pca_rf_accuracy),\n",
    "    'Random Forest after LDA': (lda_rf_training_time, lda_rf_accuracy)\n",
    "}\n",
    "\n",
    "models = dict(sorted(models.items(), key=lambda item: item[1][1], reverse=True))"
   ]
  },
  {
   "cell_type": "markdown",
   "metadata": {},
   "source": [
    "On peut alors déterminer quels sont les meilleurs modèles de classification, selon leur accuracy."
   ]
  },
  {
   "cell_type": "code",
   "execution_count": 47,
   "metadata": {},
   "outputs": [
    {
     "name": "stdout",
     "output_type": "stream",
     "text": [
      "Best Models:\n",
      "  #1: Random Forest, with a training time of 468.45s and an accuracy of 88.39%.\n",
      "  #2: 4-Nearest Neighbors, with a training time of 0.07s and an accuracy of 85.77%.\n",
      "  #3: 41-Nearest Neighbors after LDA, with a training time of 0.02s and an accuracy of 84.15%.\n",
      "  #4: Random Forest after LDA, with a training time of 158.08s and an accuracy of 84.04%.\n",
      "  #5: Naive Bayes after LDA, with a training time of 0.01s and an accuracy of 81.72%.\n",
      "  #6: Decision Tree after LDA, with a training time of 0.68s and an accuracy of 81.36%.\n",
      "  #7: Decision Tree, with a training time of 12.64s and an accuracy of 81.17%.\n",
      "  #8: Random Forest after PCA, with a training time of 99.57s and an accuracy of 77.91%.\n",
      "  #9: 10-Nearest Neighbors after PCA, with a training time of 0.02s and an accuracy of 76.91%.\n",
      "  #10: Decision Tree after PCA, with a training time of 0.49s and an accuracy of 72.69%.\n",
      "  #11: Naive Bayes after PCA, with a training time of 0.01s and an accuracy of 67.72%.\n",
      "  #12: Naive Bayes, with a training time of 0.26s and an accuracy of 58.56%.\n"
     ]
    }
   ],
   "source": [
    "print('Best Models:')\n",
    "\n",
    "i = 0\n",
    "\n",
    "for model in models:\n",
    "    i += 1\n",
    "    print('  #%d: %s, with a training time of %.2fs and an accuracy of %.2f%%.' % (i, model, models.get(model)[0], models.get(model)[1] * 100))"
   ]
  },
  {
   "cell_type": "markdown",
   "metadata": {},
   "source": [
    "On a donc tous nos modèles triés par meilleure accuracy. On remarque que RF semble être le meilleur modèle sur les données brutes, mais relativement long, il semble être aussi le meilleur après réduction de dimension grâce à l'ACP ; et _k_-NN semble être le meilleur après réduction de dimension grâce à l'ALD.\n",
    "\n",
    "On remarque également que les modèles après ACP sont peu performants par rapport aux autres, et que _k_-NN est un très bon modèle quelles que soient les données.\n",
    "\n",
    "Il semble cependant bon de noter que à accuracy relativement similaire, il est préférable de choisir un classifieur ayant un temps d'exécution plus court. En effet, ce qui compte le plus est le rapport accuracy/temps d'entraînement."
   ]
  },
  {
   "cell_type": "markdown",
   "metadata": {},
   "source": [
    "Et voilà le travail ! 🙂"
   ]
  }
 ],
 "metadata": {
  "interpreter": {
   "hash": "308a216d09664f400cdb2f6c5e0ae139565d7a28869de5b9540c5579b2a69035"
  },
  "kernelspec": {
   "display_name": "Python 3.10.1 64-bit ('3.10.1': pyenv)",
   "language": "python",
   "name": "python3"
  },
  "language_info": {
   "codemirror_mode": {
    "name": "ipython",
    "version": 3
   },
   "file_extension": ".py",
   "mimetype": "text/x-python",
   "name": "python",
   "nbconvert_exporter": "python",
   "pygments_lexer": "ipython3",
   "version": "3.7.2"
  },
  "orig_nbformat": 4
 },
 "nbformat": 4,
 "nbformat_minor": 2
}
