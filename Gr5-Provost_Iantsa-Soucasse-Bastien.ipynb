{
 "cells": [
  {
   "cell_type": "markdown",
   "metadata": {},
   "source": [
    "Iantsa Provost et Bastien Soucasse – Groupe 5\n",
    "\n",
    "# Projet d’ACID – 2 janvier 2022\n",
    "\n",
    "[Sujet](https://masterinfo.emi.u-bordeaux.fr/wiki/lib/exe/fetch.php?media=mini_projet.pdf)"
   ]
  },
  {
   "cell_type": "markdown",
   "metadata": {},
   "source": [
    "## Introduction\n",
    "\n",
    "Afin de se lancer dans la comparaison des différents algorithmes de _Machine Learning_, il nous faut des données à exploiter pour l’entraînement et en guise de test."
   ]
  },
  {
   "cell_type": "markdown",
   "metadata": {},
   "source": [
    "Commençons par importer les modules nécessaires au bon fonctionnement du projet."
   ]
  },
  {
   "cell_type": "code",
   "execution_count": 1,
   "metadata": {},
   "outputs": [],
   "source": [
    "from tensorflow.keras.datasets import fashion_mnist\n",
    "\n",
    "import matplotlib.pyplot as plt\n",
    "import matplotlib.cm as cm\n",
    "\n",
    "%matplotlib inline"
   ]
  },
  {
   "cell_type": "markdown",
   "metadata": {},
   "source": [
    "On définit ensuite quelques constantes importantes."
   ]
  },
  {
   "cell_type": "code",
   "execution_count": 2,
   "metadata": {},
   "outputs": [],
   "source": [
    "NUM_CLASSES = 10\n",
    "VERBOSE = True"
   ]
  },
  {
   "cell_type": "markdown",
   "metadata": {},
   "source": [
    "On peut alors créer nos données à l’aide de **keras**."
   ]
  },
  {
   "cell_type": "code",
   "execution_count": 3,
   "metadata": {},
   "outputs": [
    {
     "name": "stdout",
     "output_type": "stream",
     "text": [
      "x_train.shape = (60000, 28, 28)\n",
      "y_train.shape = (60000,)\n",
      "x_test.shape = (10000, 28, 28)\n",
      "y_test.shape = (10000,)\n"
     ]
    }
   ],
   "source": [
    "(x_train, y_train), (x_test, y_test) = fashion_mnist.load_data()\n",
    "x_train, x_test = x_train / 255.0, x_test / 255.0\n",
    "\n",
    "assert len(x_train.shape) == 3\n",
    "assert len(x_test.shape) == 3\n",
    "assert len(y_train.shape) == 1\n",
    "assert len(y_test.shape) == 1\n",
    "\n",
    "if (VERBOSE):\n",
    "    print('x_train.shape =', x_train.shape)\n",
    "    print('y_train.shape =', y_train.shape)\n",
    "    print('x_test.shape =', x_test.shape)\n",
    "    print('y_test.shape =', y_test.shape)"
   ]
  },
  {
   "cell_type": "markdown",
   "metadata": {},
   "source": [
    "On a également besoin d’applatir les données."
   ]
  },
  {
   "cell_type": "code",
   "execution_count": 4,
   "metadata": {},
   "outputs": [
    {
     "name": "stdout",
     "output_type": "stream",
     "text": [
      "flattened_x_train.shape = (60000, 784)\n",
      "flattened_x_test.shape = (10000, 784)\n"
     ]
    }
   ],
   "source": [
    "flattened_x_train, flattened_x_test = x_train.reshape(x_train.shape[0], x_train.shape[1] * x_train.shape[2]), x_test.reshape(x_test.shape[0], x_test.shape[1] * x_test.shape[2])\n",
    "\n",
    "assert len(flattened_x_train.shape) == 2\n",
    "assert len(flattened_x_test.shape) == 2\n",
    "\n",
    "if (VERBOSE):\n",
    "    print('flattened_x_train.shape =', flattened_x_train.shape)\n",
    "    print('flattened_x_test.shape =', flattened_x_test.shape)"
   ]
  },
  {
   "cell_type": "markdown",
   "metadata": {},
   "source": [
    "Si besoin, on peut avoir un aperçu des données."
   ]
  },
  {
   "cell_type": "code",
   "execution_count": 5,
   "metadata": {},
   "outputs": [
    {
     "name": "stdout",
     "output_type": "stream",
     "text": [
      "x_train[0]:\n"
     ]
    },
    {
     "data": {
      "image/png": "[encoded data removed]",
      "text/plain": [
       "<Figure size 432x288 with 1 Axes>"
      ]
     },
     "metadata": {
      "needs_background": "light"
     },
     "output_type": "display_data"
    },
    {
     "name": "stdout",
     "output_type": "stream",
     "text": [
      "y_train[0] = 9\n",
      "x_train[1]:\n"
     ]
    },
    {
     "data": {
      "image/png": "[encoded data removed]",
      "text/plain": [
       "<Figure size 432x288 with 1 Axes>"
      ]
     },
     "metadata": {
      "needs_background": "light"
     },
     "output_type": "display_data"
    },
    {
     "name": "stdout",
     "output_type": "stream",
     "text": [
      "y_train[1] = 0\n",
      "x_train[2]:\n"
     ]
    },
    {
     "data": {
      "image/png": "[encoded data removed]",
      "text/plain": [
       "<Figure size 432x288 with 1 Axes>"
      ]
     },
     "metadata": {
      "needs_background": "light"
     },
     "output_type": "display_data"
    },
    {
     "name": "stdout",
     "output_type": "stream",
     "text": [
      "y_train[2] = 0\n",
      "x_train[3]:\n"
     ]
    },
    {
     "data": {
      "image/png": "[encoded data removed]",
      "text/plain": [
       "<Figure size 432x288 with 1 Axes>"
      ]
     },
     "metadata": {
      "needs_background": "light"
     },
     "output_type": "display_data"
    },
    {
     "name": "stdout",
     "output_type": "stream",
     "text": [
      "y_train[3] = 3\n",
      "x_train[4]:\n"
     ]
    },
    {
     "data": {
      "image/png": "[encoded data removed]",
      "text/plain": [
       "<Figure size 432x288 with 1 Axes>"
      ]
     },
     "metadata": {
      "needs_background": "light"
     },
     "output_type": "display_data"
    },
    {
     "name": "stdout",
     "output_type": "stream",
     "text": [
      "y_train[4] = 0\n"
     ]
    }
   ],
   "source": [
    "if VERBOSE:\n",
    "    NUM_EXAMPLES = 5\n",
    "\n",
    "    for i in range(NUM_EXAMPLES):\n",
    "        print('x_train[%d]:' % i)\n",
    "        plt.imshow(x_train[i], cmap = cm.Greys)\n",
    "        plt.show()\n",
    "        print('y_train[%d] =' % i, y_train[i])"
   ]
  },
  {
   "cell_type": "markdown",
   "metadata": {},
   "source": [
    "## Classifications des données\n",
    "\n",
    "Cette partie est dédiée concrètement au _Machine Learning_. Pour classifier les données on a plusieurs méthodes que l’on peut appliquer.\n",
    "\n",
    "- k-Nearest Neighbors\n",
    "- Bayes\n",
    "- LDA"
   ]
  },
  {
   "cell_type": "markdown",
   "metadata": {},
   "source": [
    "### k-Nearest Neightbors"
   ]
  },
  {
   "cell_type": "markdown",
   "metadata": {},
   "source": [
    "Commençons par importer la classe du modèle de la classification par les `k` plus proches voisins."
   ]
  },
  {
   "cell_type": "code",
   "execution_count": 6,
   "metadata": {},
   "outputs": [],
   "source": [
    "from sklearn.neighbors import KNeighborsClassifier"
   ]
  },
  {
   "cell_type": "markdown",
   "metadata": {},
   "source": [
    "On définit ensuite les valeurs possibles pour `k`."
   ]
  },
  {
   "cell_type": "code",
   "execution_count": 7,
   "metadata": {},
   "outputs": [
    {
     "name": "stdout",
     "output_type": "stream",
     "text": [
      "K_VALS = [1, 2, 3, 4, 5, 6, 7, 8, 9, 10, 11, 31, 51, 71, 91]\n"
     ]
    }
   ],
   "source": [
    "K_VALS = list(range(1, 11)) + list(range(11, 101, 20))\n",
    "\n",
    "if VERBOSE:\n",
    "    print('K_VALS =', K_VALS)"
   ]
  },
  {
   "cell_type": "markdown",
   "metadata": {},
   "source": [
    "On peut calculer le `score` pour chaque `k`."
   ]
  },
  {
   "cell_type": "code",
   "execution_count": 8,
   "metadata": {},
   "outputs": [
    {
     "name": "stdout",
     "output_type": "stream",
     "text": [
      "Computing k-NN classification for k = 1…\n",
      "Mean accuracy: 0.849700.\n",
      "Computing k-NN classification for k = 2…\n",
      "Mean accuracy: 0.846000.\n",
      "Computing k-NN classification for k = 3…\n",
      "Mean accuracy: 0.854100.\n",
      "Computing k-NN classification for k = 4…\n",
      "Mean accuracy: 0.857700.\n",
      "Computing k-NN classification for k = 5…\n",
      "Mean accuracy: 0.855400.\n",
      "Computing k-NN classification for k = 6…\n",
      "Mean accuracy: 0.854400.\n",
      "Computing k-NN classification for k = 7…\n",
      "Mean accuracy: 0.854000.\n",
      "Computing k-NN classification for k = 8…\n",
      "Mean accuracy: 0.853400.\n",
      "Computing k-NN classification for k = 9…\n",
      "Mean accuracy: 0.851900.\n",
      "Computing k-NN classification for k = 10…\n",
      "Mean accuracy: 0.851500.\n",
      "Computing k-NN classification for k = 11…\n",
      "Mean accuracy: 0.849500.\n",
      "Computing k-NN classification for k = 31…\n",
      "Mean accuracy: 0.834800.\n",
      "Computing k-NN classification for k = 51…\n",
      "Mean accuracy: 0.825800.\n",
      "Computing k-NN classification for k = 71…\n",
      "Mean accuracy: 0.821300.\n",
      "Computing k-NN classification for k = 91…\n",
      "Mean accuracy: 0.818000.\n"
     ]
    }
   ],
   "source": [
    "knn_scores = {}\n",
    "\n",
    "for k in K_VALS:\n",
    "    if VERBOSE:\n",
    "        print('Computing k-NN classification for k = %d…' % k)\n",
    "\n",
    "    model = KNeighborsClassifier(n_neighbors=k)\n",
    "    model.fit(flattened_x_train, y_train)\n",
    "    knn_scores[k] = model.score(flattened_x_test, y_test)\n",
    "\n",
    "    if VERBOSE:\n",
    "        print('Mean accuracy: %f.' % knn_scores.get(k))"
   ]
  },
  {
   "cell_type": "markdown",
   "metadata": {},
   "source": [
    "On récupère ainsi la précision du meilleur modèle de classification par les `k` plus proches voisins."
   ]
  },
  {
   "cell_type": "code",
   "execution_count": 9,
   "metadata": {},
   "outputs": [
    {
     "name": "stdout",
     "output_type": "stream",
     "text": [
      "Best k-NN model:\n",
      "  - Number of neighbors: 4.\n",
      "  - Mean accuracy: 85.77%.\n"
     ]
    }
   ],
   "source": [
    "best_k = max(knn_scores, key=knn_scores.get)\n",
    "\n",
    "print('Best k-NN model:')\n",
    "print('  - Number of neighbors: %d.' % best_k)\n",
    "print('  - Mean accuracy: %.2f%%.' % (knn_scores.get(best_k) * 100))"
   ]
  },
  {
   "cell_type": "markdown",
   "metadata": {},
   "source": [
    "On remarque alors que le meilleur modèle de classification par les `k` plus proches voisins est celui dont le `k` est égal à 4 et sa précision est de 86%. Quant aux autres valeurs de `k`, on constate malgré tout qu’on arrive généralement au delà des 80% de précision."
   ]
  },
  {
   "cell_type": "markdown",
   "metadata": {},
   "source": [
    "### Bayes"
   ]
  },
  {
   "cell_type": "markdown",
   "metadata": {},
   "source": [
    "Commençons par importer la classe du modèle de la classification bayésienne."
   ]
  },
  {
   "cell_type": "code",
   "execution_count": 10,
   "metadata": {},
   "outputs": [],
   "source": [
    "from sklearn.naive_bayes import GaussianNB"
   ]
  },
  {
   "cell_type": "markdown",
   "metadata": {},
   "source": [
    "On peut calculer le `score`."
   ]
  },
  {
   "cell_type": "code",
   "execution_count": 11,
   "metadata": {},
   "outputs": [
    {
     "name": "stdout",
     "output_type": "stream",
     "text": [
      "Computing Gaussian Naive Bayes classification…\n",
      "Mean accuracy: 0.585600.\n"
     ]
    }
   ],
   "source": [
    "if VERBOSE:\n",
    "    print('Computing Gaussian Naive Bayes classification…')\n",
    "\n",
    "model = GaussianNB()\n",
    "model.fit(flattened_x_train, y_train)\n",
    "bayes_score = model.score(flattened_x_test, y_test)\n",
    "\n",
    "if VERBOSE:\n",
    "    print('Mean accuracy: %f.' % bayes_score)"
   ]
  },
  {
   "cell_type": "markdown",
   "metadata": {},
   "source": [
    "On récupère ainsi la précision de la classification bayésienne."
   ]
  },
  {
   "cell_type": "code",
   "execution_count": 12,
   "metadata": {},
   "outputs": [
    {
     "name": "stdout",
     "output_type": "stream",
     "text": [
      "Bayes model:\n",
      "  - Mean accuracy: 58.56%.\n"
     ]
    }
   ],
   "source": [
    "print('Bayes model:')\n",
    "print('  - Mean accuracy: %.2f%%.' % (bayes_score * 100))"
   ]
  },
  {
   "cell_type": "markdown",
   "metadata": {},
   "source": [
    "On remarque alors que la classification bayésienne a une précision de 59%."
   ]
  },
  {
   "cell_type": "markdown",
   "metadata": {},
   "source": [
    "### LDA"
   ]
  }
 ],
 "metadata": {
  "interpreter": {
   "hash": "308a216d09664f400cdb2f6c5e0ae139565d7a28869de5b9540c5579b2a69035"
  },
  "kernelspec": {
   "display_name": "Python 3.10.1 64-bit ('3.10.1': pyenv)",
   "language": "python",
   "name": "python3"
  },
  "language_info": {
   "codemirror_mode": {
    "name": "ipython",
    "version": 3
   },
   "file_extension": ".py",
   "mimetype": "text/x-python",
   "name": "python",
   "nbconvert_exporter": "python",
   "pygments_lexer": "ipython3",
   "version": "3.9.7"
  },
  "orig_nbformat": 4
 },
 "nbformat": 4,
 "nbformat_minor": 2
}
