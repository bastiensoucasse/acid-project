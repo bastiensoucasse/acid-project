{
 "cells": [
  {
   "cell_type": "markdown",
   "metadata": {},
   "source": [
    "Iantsa Provost et Bastien Soucasse – Groupe 5\n",
    "\n",
    "# Projet d’ACID – 2 janvier 2022\n",
    "\n",
    "[Sujet](https://masterinfo.emi.u-bordeaux.fr/wiki/lib/exe/fetch.php?media=mini_projet.pdf)"
   ]
  },
  {
   "cell_type": "markdown",
   "metadata": {},
   "source": [
    "## Introduction\n",
    "\n",
    "Afin de se lancer dans la comparaison des différents algorithmes de _Machine Learning_, il nous faut des données à exploiter pour l’entraînement et en guise de test."
   ]
  },
  {
   "cell_type": "markdown",
   "metadata": {},
   "source": [
    "Commençons par importer les modules nécessaires au bon fonctionnement du projet."
   ]
  },
  {
   "cell_type": "code",
   "execution_count": 21,
   "metadata": {},
   "outputs": [],
   "source": [
    "from tensorflow.keras.datasets import fashion_mnist\n",
    "\n",
    "import matplotlib.pyplot as plt\n",
    "import matplotlib.cm as cm\n",
    "\n",
    "import time\n",
    "\n",
    "%matplotlib inline\n",
    "\n",
    "VERBOSE = True"
   ]
  },
  {
   "cell_type": "markdown",
   "metadata": {},
   "source": [
    "On peut alors créer nos données à l’aide de **keras**."
   ]
  },
  {
   "cell_type": "code",
   "execution_count": 22,
   "metadata": {},
   "outputs": [
    {
     "name": "stdout",
     "output_type": "stream",
     "text": [
      "X_train.shape = (60000, 28, 28)\n",
      "y_train.shape = (60000,)\n",
      "X_test.shape = (10000, 28, 28)\n",
      "y_test.shape = (10000,)\n"
     ]
    }
   ],
   "source": [
    "(X_train, y_train), (X_test, y_test) = fashion_mnist.load_data()\n",
    "X_train, X_test = X_train / 255.0, X_test / 255.0\n",
    "\n",
    "assert len(X_train.shape) == 3\n",
    "assert len(X_test.shape) == 3\n",
    "assert len(y_train.shape) == 1\n",
    "assert len(y_test.shape) == 1\n",
    "\n",
    "if (VERBOSE):\n",
    "    print('X_train.shape =', X_train.shape)\n",
    "    print('y_train.shape =', y_train.shape)\n",
    "    print('X_test.shape =', X_test.shape)\n",
    "    print('y_test.shape =', y_test.shape)"
   ]
  },
  {
   "cell_type": "markdown",
   "metadata": {},
   "source": [
    "Si besoin, on peut avoir un aperçu des données."
   ]
  },
  {
   "cell_type": "code",
   "execution_count": 23,
   "metadata": {},
   "outputs": [
    {
     "name": "stdout",
     "output_type": "stream",
     "text": [
      "X_train[0]:\n"
     ]
    },
    {
     "data": {
      "image/png": "[encoded data removed]",
      "text/plain": [
       "<Figure size 432x288 with 1 Axes>"
      ]
     },
     "metadata": {
      "needs_background": "light"
     },
     "output_type": "display_data"
    },
    {
     "name": "stdout",
     "output_type": "stream",
     "text": [
      "y_train[0] = 9\n",
      "X_train[1]:\n"
     ]
    },
    {
     "data": {
      "image/png": "[encoded data removed]",
      "text/plain": [
       "<Figure size 432x288 with 1 Axes>"
      ]
     },
     "metadata": {
      "needs_background": "light"
     },
     "output_type": "display_data"
    },
    {
     "name": "stdout",
     "output_type": "stream",
     "text": [
      "y_train[1] = 0\n",
      "X_train[2]:\n"
     ]
    },
    {
     "data": {
      "image/png": "[encoded data removed]",
      "text/plain": [
       "<Figure size 432x288 with 1 Axes>"
      ]
     },
     "metadata": {
      "needs_background": "light"
     },
     "output_type": "display_data"
    },
    {
     "name": "stdout",
     "output_type": "stream",
     "text": [
      "y_train[2] = 0\n",
      "X_train[3]:\n"
     ]
    },
    {
     "data": {
      "image/png": "[encoded data removed]",
      "text/plain": [
       "<Figure size 432x288 with 1 Axes>"
      ]
     },
     "metadata": {
      "needs_background": "light"
     },
     "output_type": "display_data"
    },
    {
     "name": "stdout",
     "output_type": "stream",
     "text": [
      "y_train[3] = 3\n",
      "X_train[4]:\n"
     ]
    },
    {
     "data": {
      "image/png": "[encoded data removed]",
      "text/plain": [
       "<Figure size 432x288 with 1 Axes>"
      ]
     },
     "metadata": {
      "needs_background": "light"
     },
     "output_type": "display_data"
    },
    {
     "name": "stdout",
     "output_type": "stream",
     "text": [
      "y_train[4] = 0\n"
     ]
    }
   ],
   "source": [
    "if VERBOSE:\n",
    "    NUM_EXAMPLES = 5\n",
    "\n",
    "    for i in range(NUM_EXAMPLES):\n",
    "        print('X_train[%d]:' % i)\n",
    "        plt.imshow(X_train[i], cmap = cm.Greys)\n",
    "        plt.show()\n",
    "        print('y_train[%d] =' % i, y_train[i])"
   ]
  },
  {
   "cell_type": "markdown",
   "metadata": {},
   "source": [
    "On a également besoin d’applatir les données."
   ]
  },
  {
   "cell_type": "code",
   "execution_count": 24,
   "metadata": {},
   "outputs": [
    {
     "name": "stdout",
     "output_type": "stream",
     "text": [
      "X_train.shape = (60000, 784)\n",
      "X_test.shape = (10000, 784)\n"
     ]
    }
   ],
   "source": [
    "X_train, X_test = X_train.reshape(X_train.shape[0], X_train.shape[1] * X_train.shape[2]), X_test.reshape(X_test.shape[0], X_test.shape[1] * X_test.shape[2])\n",
    "\n",
    "assert len(X_train.shape) == 2\n",
    "assert len(X_test.shape) == 2\n",
    "\n",
    "if (VERBOSE):\n",
    "    print('X_train.shape =', X_train.shape)\n",
    "    print('X_test.shape =', X_test.shape)"
   ]
  },
  {
   "cell_type": "markdown",
   "metadata": {},
   "source": [
    "## Classifications des données\n",
    "\n",
    "Cette partie est dédiée concrètement au _Machine Learning_. Pour classifier les données on a plusieurs méthodes que l’on peut appliquer.\n",
    "\n",
    "- Méthode des `k` plus proches voisins\n",
    "- Classification naïve bayésienne\n",
    "- Analyse discriminante linéaire\n",
    "- Perceptron multicouche [?]"
   ]
  },
  {
   "cell_type": "markdown",
   "metadata": {},
   "source": [
    "### Méthode des `k` plus proches voisins"
   ]
  },
  {
   "cell_type": "markdown",
   "metadata": {},
   "source": [
    "Commençons par importer la classe du modèle de la classification par la méthode des `k` plus proches voisins."
   ]
  },
  {
   "cell_type": "code",
   "execution_count": 25,
   "metadata": {},
   "outputs": [],
   "source": [
    "from sklearn.neighbors import KNeighborsClassifier"
   ]
  },
  {
   "cell_type": "markdown",
   "metadata": {},
   "source": [
    "On définit ensuite les valeurs possibles pour `k`."
   ]
  },
  {
   "cell_type": "code",
   "execution_count": 26,
   "metadata": {},
   "outputs": [
    {
     "name": "stdout",
     "output_type": "stream",
     "text": [
      "K_VALS = [4]\n"
     ]
    }
   ],
   "source": [
    "# WARNING: Provisory edit for faster computing!\n",
    "# K_VALS = list(range(1, 11))\n",
    "K_VALS = [4]\n",
    "\n",
    "if VERBOSE:\n",
    "    print('K_VALS =', K_VALS)"
   ]
  },
  {
   "cell_type": "markdown",
   "metadata": {},
   "source": [
    "On peut calculer la précision `accuracy` pour chaque `k`, et récupérer le meilleur grâce à une fonction"
   ]
  },
  {
   "cell_type": "code",
   "execution_count": 27,
   "metadata": {},
   "outputs": [
    {
     "name": "stdout",
     "output_type": "stream",
     "text": [
      "Computing 4-Nearest Neighbors classification…\n",
      "training_time = 0.035926103591918945\n",
      "accuracy = 0.8577\n"
     ]
    }
   ],
   "source": [
    "def find_best_knn(k_vals):\n",
    "    best_k, best_k_training_time, best_k_accuracy = 0, 0, 0\n",
    "    \n",
    "    for k in k_vals:\n",
    "        if VERBOSE:\n",
    "            print('Computing %d-Nearest Neighbors classification…' % k)\n",
    "\n",
    "        knn = KNeighborsClassifier(n_neighbors=k)\n",
    "        start_time = time.time()\n",
    "        knn.fit(X_train, y_train)\n",
    "        training_time = time.time() - start_time\n",
    "        accuracy = knn.score(X_test, y_test)\n",
    "\n",
    "        if VERBOSE:\n",
    "            print('training_time =', training_time)\n",
    "            print('accuracy =', accuracy)\n",
    "        \n",
    "        if accuracy > best_k_accuracy:\n",
    "            best_k = k\n",
    "            best_k_training_time = training_time\n",
    "            best_k_accuracy = accuracy\n",
    "    \n",
    "    return best_k, best_k_training_time, best_k_accuracy\n",
    "\n",
    "knn_k, knn_training_time, knn_accuracy = find_best_knn(K_VALS)"
   ]
  },
  {
   "cell_type": "markdown",
   "metadata": {},
   "source": [
    "On récupère ainsi la précision du meilleur modèle de classification par la méthode des `k` plus proches voisins."
   ]
  },
  {
   "cell_type": "code",
   "execution_count": 28,
   "metadata": {},
   "outputs": [
    {
     "name": "stdout",
     "output_type": "stream",
     "text": [
      "4-Nearest Neighbors:\n",
      "  - Training Time: 0.04s.\n",
      "  - Accuracy: 85.77%.\n"
     ]
    }
   ],
   "source": [
    "print('%d-Nearest Neighbors:' % knn_k)\n",
    "print('  - Training Time: %.2fs.' % knn_training_time)\n",
    "print('  - Accuracy: %.2f%%.' % (knn_accuracy * 100))"
   ]
  },
  {
   "cell_type": "markdown",
   "metadata": {},
   "source": [
    "On remarque alors que le meilleur modèle de classification par la méthode des `k` plus proches voisins est celui dont le `k` est égal à 4 et sa précision est de 86%. Quant aux autres valeurs de `k`, on constate malgré tout qu’on arrive généralement au delà des 80% de précision."
   ]
  },
  {
   "cell_type": "markdown",
   "metadata": {},
   "source": [
    "### Classification naïve bayésienne"
   ]
  },
  {
   "cell_type": "markdown",
   "metadata": {},
   "source": [
    "Commençons par importer la classe du modèle de la classification naïve bayésienne."
   ]
  },
  {
   "cell_type": "code",
   "execution_count": 29,
   "metadata": {},
   "outputs": [],
   "source": [
    "from sklearn.naive_bayes import GaussianNB"
   ]
  },
  {
   "cell_type": "markdown",
   "metadata": {},
   "source": [
    "On peut calculer la précision `accuracy`."
   ]
  },
  {
   "cell_type": "code",
   "execution_count": 30,
   "metadata": {},
   "outputs": [
    {
     "name": "stdout",
     "output_type": "stream",
     "text": [
      "Computing gaussian naive Bayes classification…\n",
      "training_time = 0.29094719886779785\n",
      "accuracy = 0.5856\n"
     ]
    }
   ],
   "source": [
    "if VERBOSE:\n",
    "    print('Computing gaussian naive Bayes classification…')\n",
    "\n",
    "gnb = GaussianNB()\n",
    "start_time = time.time()\n",
    "gnb.fit(X_train, y_train)\n",
    "gnb_training_time = time.time() - start_time\n",
    "gnb_accuracy = gnb.score(X_test, y_test)\n",
    "\n",
    "if VERBOSE:\n",
    "    print('training_time =', gnb_training_time)\n",
    "    print('accuracy =', gnb_accuracy)"
   ]
  },
  {
   "cell_type": "markdown",
   "metadata": {},
   "source": [
    "On récupère ainsi la précision de la classification naïve bayésienne."
   ]
  },
  {
   "cell_type": "code",
   "execution_count": 31,
   "metadata": {},
   "outputs": [
    {
     "name": "stdout",
     "output_type": "stream",
     "text": [
      "Gaussian Naive Bayes:\n",
      "  - Training Time: 0.29s.\n",
      "  - Accuracy: 58.56%.\n"
     ]
    }
   ],
   "source": [
    "print('Gaussian Naive Bayes:')\n",
    "print('  - Training Time: %.2fs.' % gnb_training_time)\n",
    "print('  - Accuracy: %.2f%%.' % (gnb_accuracy * 100))"
   ]
  },
  {
   "cell_type": "markdown",
   "metadata": {},
   "source": [
    "On remarque alors que la classification naïve bayésienne a une précision de 59%."
   ]
  },
  {
   "cell_type": "markdown",
   "metadata": {},
   "source": [
    "### Analyse discriminante linéaire"
   ]
  },
  {
   "cell_type": "markdown",
   "metadata": {},
   "source": [
    "Commençons par importer la classe du modèle de la classification par l’analyse discriminante linéaire."
   ]
  },
  {
   "cell_type": "code",
   "execution_count": 32,
   "metadata": {},
   "outputs": [],
   "source": [
    "from sklearn.discriminant_analysis import LinearDiscriminantAnalysis as LDA"
   ]
  },
  {
   "cell_type": "markdown",
   "metadata": {},
   "source": [
    "On peut calculer la précision `accuracy`."
   ]
  },
  {
   "cell_type": "code",
   "execution_count": 33,
   "metadata": {},
   "outputs": [
    {
     "name": "stdout",
     "output_type": "stream",
     "text": [
      "Computing linear discriminant analysis classification…\n",
      "training_time = 9.29048490524292\n",
      "accuracy = 0.8151\n"
     ]
    }
   ],
   "source": [
    "if VERBOSE:\n",
    "    print('Computing linear discriminant analysis classification…')\n",
    "\n",
    "lda = LDA()\n",
    "start_time = time.time()\n",
    "lda.fit(X_train, y_train)\n",
    "lda_training_time = time.time() - start_time\n",
    "lda_accuracy = lda.score(X_test, y_test)\n",
    "\n",
    "if VERBOSE:\n",
    "    print('training_time =', lda_training_time)\n",
    "    print('accuracy =', lda_accuracy)"
   ]
  },
  {
   "cell_type": "markdown",
   "metadata": {},
   "source": [
    "On récupère ainsi la précision de la classification par l’analyse discriminante linéaire."
   ]
  },
  {
   "cell_type": "code",
   "execution_count": 34,
   "metadata": {},
   "outputs": [
    {
     "name": "stdout",
     "output_type": "stream",
     "text": [
      "Linear Discriminant Analysis:\n",
      "  - Execution Time: 9.29s.\n",
      "  - Accuracy: 81.51%.\n"
     ]
    }
   ],
   "source": [
    "print('Linear Discriminant Analysis:')\n",
    "print('  - Execution Time: %.2fs.' % lda_training_time)\n",
    "print('  - Accuracy: %.2f%%.' % (lda_accuracy * 100))"
   ]
  },
  {
   "cell_type": "markdown",
   "metadata": {},
   "source": [
    "On remarque alors que la classification par l’analyse discriminante linéaire a une précision de 82%."
   ]
  },
  {
   "cell_type": "markdown",
   "metadata": {},
   "source": [
    "## Avec Analyse en Composantes Principales\n",
    "\n",
    "Nous allons maintenant effectuer une ACP en amont, afin de ta race."
   ]
  },
  {
   "cell_type": "code",
   "execution_count": 83,
   "metadata": {},
   "outputs": [],
   "source": [
    "import numpy as np\n",
    "from sklearn.preprocessing import StandardScaler\n",
    "\n",
    "scaler = StandardScaler()\n",
    "X = np.concatenate((X_train, X_test))\n",
    "z = scaler.fit_transform(X)"
   ]
  },
  {
   "cell_type": "code",
   "execution_count": 84,
   "metadata": {},
   "outputs": [
    {
     "name": "stdout",
     "output_type": "stream",
     "text": [
      "PCA()\n"
     ]
    }
   ],
   "source": [
    "from sklearn.decomposition import PCA\n",
    "acp = PCA()\n",
    "print(acp)"
   ]
  },
  {
   "cell_type": "code",
   "execution_count": 85,
   "metadata": {},
   "outputs": [
    {
     "name": "stdout",
     "output_type": "stream",
     "text": [
      "784\n"
     ]
    }
   ],
   "source": [
    "coord = acp.fit_transform(z)\n",
    "print(acp.n_components_)"
   ]
  },
  {
   "cell_type": "markdown",
   "metadata": {},
   "source": [
    "Utilisons le critère du coude pour définir le nombre d'axes que l'on va retenir. Pour ce faire, nous allons construire l'éboulis."
   ]
  },
  {
   "cell_type": "code",
   "execution_count": 86,
   "metadata": {},
   "outputs": [
    {
     "data": {
      "image/png": "[encoded data removed]",
      "text/plain": [
       "<Figure size 432x288 with 1 Axes>"
      ]
     },
     "metadata": {
      "needs_background": "light"
     },
     "output_type": "display_data"
    }
   ],
   "source": [
    "import numpy as np\n",
    "\n",
    "def display_scree_plot(n_components, explained_variance_ratio):\n",
    "    plt.grid()\n",
    "    plt.plot(np.arange(1, n_components+1), explained_variance_ratio)\n",
    "    plt.title(\"Scree plot\")\n",
    "    plt.ylabel(\"Eigen values\")\n",
    "    plt.xlabel(\"Factor number\")\n",
    "    plt.show()\n",
    "\n",
    "display_scree_plot(acp.n_components_, acp.explained_variance_ratio_)"
   ]
  },
  {
   "cell_type": "markdown",
   "metadata": {},
   "source": [
    "En l'état, l'éboulis n'est pas vraiment lisible. Cependant, on remarque qu'à partir d'un certain facteur, la valeur propre est plutôt constante. On peut donc tronquer cette partie, ce qui nous permettra de \"zoomer\" sur le décrochement qu'on cherche."
   ]
  },
  {
   "cell_type": "code",
   "execution_count": 87,
   "metadata": {},
   "outputs": [
    {
     "data": {
      "image/png": "[encoded data removed]",
      "text/plain": [
       "<Figure size 432x288 with 1 Axes>"
      ]
     },
     "metadata": {
      "needs_background": "light"
     },
     "output_type": "display_data"
    }
   ],
   "source": [
    "display_scree_plot(30, acp.explained_variance_ratio_[:30])"
   ]
  },
  {
   "cell_type": "markdown",
   "metadata": {},
   "source": [
    "Le décrochement semble se faire pour 3 ou 4 axes. Observons la variance totale pour ces 2 possibilités :"
   ]
  },
  {
   "cell_type": "code",
   "execution_count": 88,
   "metadata": {},
   "outputs": [
    {
     "name": "stdout",
     "output_type": "stream",
     "text": [
      "0.5110342126751333\n"
     ]
    }
   ],
   "source": [
    "p = 5\n",
    "acp = PCA(n_components=p)\n",
    "coord = acp.fit_transform(z)\n",
    "print(acp.explained_variance_ratio_.sum())"
   ]
  },
  {
   "cell_type": "markdown",
   "metadata": {},
   "source": [
    "On a dû prendre 5 axes afin de garder au moins 50% de la variance, ce qui reste assez peu..."
   ]
  },
  {
   "cell_type": "markdown",
   "metadata": {},
   "source": [
    "### Classification bayésienne"
   ]
  },
  {
   "cell_type": "code",
   "execution_count": 101,
   "metadata": {},
   "outputs": [
    {
     "name": "stdout",
     "output_type": "stream",
     "text": [
      "time:  0.03129172325134277\n",
      "accuracy:  0.6263\n"
     ]
    }
   ],
   "source": [
    "from sklearn.naive_bayes import GaussianNB\n",
    "from sklearn.metrics import accuracy_score\n",
    "from time import time\n",
    "\n",
    "nb = GaussianNB()\n",
    "X = np.concatenate((X_train, X_test))\n",
    "z = scaler.fit_transform(X)\n",
    "p = 5\n",
    "acp = PCA(n_components=p)\n",
    "Xp = acp.fit_transform(z)\n",
    "Xp_train = Xp[:60000]\n",
    "Xp_test = Xp[60000:]\n",
    "t = time()\n",
    "nb.fit(Xp_train, y_train)\n",
    "t = time() - t\n",
    "y_pred = nb.predict(Xp_test)\n",
    "acc = accuracy_score(y_test, y_pred)\n",
    "print('time: ', t)\n",
    "print('accuracy: ', acc)"
   ]
  },
  {
   "cell_type": "markdown",
   "metadata": {},
   "source": [
    "## Conclusion\n",
    "\n",
    "À partir des précisions calculées dans la partie précédente, il est possible de déterminer quelles sont les meilleures pour ces données."
   ]
  },
  {
   "cell_type": "markdown",
   "metadata": {},
   "source": [
    "On peut trier toutes les précisions par ordre décroissant."
   ]
  },
  {
   "cell_type": "code",
   "execution_count": 35,
   "metadata": {},
   "outputs": [],
   "source": [
    "training_times = {\n",
    "    '%d-Nearest Neighbors' % knn_k: knn_training_time,\n",
    "    'Gaussian Naive Bayes': gnb_training_time,\n",
    "    'Linear Discriminant Analysis': lda_training_time\n",
    "}\n",
    "\n",
    "accuracies = {\n",
    "    '%d-Nearest Neighbors' % knn_k: knn_accuracy,\n",
    "    'Gaussian Naive Bayes': gnb_accuracy,\n",
    "    'Linear Discriminant Analysis': lda_accuracy\n",
    "}\n",
    "\n",
    "accuracies = dict(sorted(accuracies.items(), key=lambda item: item[1], reverse=True))"
   ]
  },
  {
   "cell_type": "markdown",
   "metadata": {},
   "source": [
    "On peut alors déterminer quels sont les meilleurs modèles de classification."
   ]
  },
  {
   "cell_type": "code",
   "execution_count": 36,
   "metadata": {},
   "outputs": [
    {
     "name": "stdout",
     "output_type": "stream",
     "text": [
      "Best Models:\n",
      "  #1: 4-Nearest Neighbors, with a training time of 0.04s and an accuracy of 85.77%.\n",
      "  #2: Linear Discriminant Analysis, with a training time of 9.29s and an accuracy of 81.51%.\n",
      "  #3: Gaussian Naive Bayes, with a training time of 0.29s and an accuracy of 58.56%.\n"
     ]
    }
   ],
   "source": [
    "print('Best Models:')\n",
    "\n",
    "i = 0\n",
    "\n",
    "for model in accuracies:\n",
    "    i += 1\n",
    "    print('  #%d: %s, with a training time of %.2fs and an accuracy of %.2f%%.' % (i, model, training_times.get(model), accuracies.get(model) * 100))"
   ]
  },
  {
   "cell_type": "markdown",
   "metadata": {},
   "source": [
    "On constate donc que la classification par la méthode des 4 plus proches voisins a été la plus efficace, suivi par celle par l’analyse discriminante linéaire, et enfin la classification naïve bayésienne qui fût la moins efficace sur ces données.\n",
    "\n",
    "En outre, les temps d’entraînement…"
   ]
  },
  {
   "cell_type": "markdown",
   "metadata": {},
   "source": [
    "Bon tout ça c’est probablement encore approximatif mais j’ai tenté de prendre un peu d’avance en faisant ce que je pouvais en amont. 🙂"
   ]
  }
 ],
 "metadata": {
  "interpreter": {
   "hash": "308a216d09664f400cdb2f6c5e0ae139565d7a28869de5b9540c5579b2a69035"
  },
  "kernelspec": {
   "display_name": "Python 3.10.1 64-bit ('3.10.1': pyenv)",
   "language": "python",
   "name": "python3"
  },
  "language_info": {
   "codemirror_mode": {
    "name": "ipython",
    "version": 3
   },
   "file_extension": ".py",
   "mimetype": "text/x-python",
   "name": "python",
   "nbconvert_exporter": "python",
   "pygments_lexer": "ipython3",
   "version": "3.9.7"
  },
  "orig_nbformat": 4
 },
 "nbformat": 4,
 "nbformat_minor": 2
}
